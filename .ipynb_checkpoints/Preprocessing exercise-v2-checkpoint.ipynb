{
 "cells": [
  {
   "cell_type": "markdown",
   "id": "worldwide-yemen",
   "metadata": {},
   "source": [
    "### 1. Collect the data"
   ]
  },
  {
   "cell_type": "code",
   "execution_count": null,
   "id": "pharmaceutical-middle",
   "metadata": {},
   "outputs": [],
   "source": [
    "import pandas as pd\n",
    "\n",
    "linkWiki=\"https://en.wikipedia.org/wiki/Democracy_Index\"\n",
    "democracy=pd.read_html(linkWiki, header=0,attrs={\"class\":\"wikitable sortable\"})[4]\n",
    "\n",
    "linkmil=\"https://www.cia.gov/the-world-factbook/field/military-expenditures/country-comparison\"\n",
    "\n",
    "milimoney=pd.read_html(linkmil)[0]\n",
    "\n",
    "linkHDI=\"https://github.com/UW-eScience-WinterSchool/Python_Session/raw/main/countryCodesHDI.xlsx\"\n",
    "hdidata=pd.read_excel(linkHDI)"
   ]
  },
  {
   "cell_type": "markdown",
   "id": "protecting-laser",
   "metadata": {},
   "source": [
    "### 2. Check column names"
   ]
  },
  {
   "cell_type": "code",
   "execution_count": null,
   "id": "local-crime",
   "metadata": {},
   "outputs": [],
   "source": [
    "democracy.columns"
   ]
  },
  {
   "cell_type": "code",
   "execution_count": null,
   "id": "applicable-cisco",
   "metadata": {},
   "outputs": [],
   "source": [
    "milimoney.columns"
   ]
  },
  {
   "cell_type": "code",
   "execution_count": null,
   "id": "considered-galaxy",
   "metadata": {},
   "outputs": [],
   "source": [
    "hdidata.columns"
   ]
  },
  {
   "cell_type": "markdown",
   "id": "synthetic-message",
   "metadata": {},
   "source": [
    "You checked column names to name the key columns for merge, and to get rid of columns that may bring trouble."
   ]
  },
  {
   "cell_type": "code",
   "execution_count": null,
   "id": "israeli-nowhere",
   "metadata": {},
   "outputs": [],
   "source": [
    "# this renaming will make merge easier\n",
    "hdidata.rename(columns={'NAME':\"Country\"},inplace=True)"
   ]
  },
  {
   "cell_type": "code",
   "execution_count": null,
   "id": "parental-crack",
   "metadata": {},
   "outputs": [],
   "source": [
    "# merge will likely use \"Rank\" as the key (leftmost common variable), so get rid of it before it happens:\n",
    "democracy.drop(columns=[\"Rank\"],inplace=True)\n",
    "milimoney.drop(columns=[\"Rank\"],inplace=True)"
   ]
  },
  {
   "cell_type": "markdown",
   "id": "unusual-carrier",
   "metadata": {},
   "source": [
    "## 3. Fuzzy merge\n",
    "\n",
    "Check how many countries are present:"
   ]
  },
  {
   "cell_type": "code",
   "execution_count": null,
   "id": "continent-production",
   "metadata": {},
   "outputs": [],
   "source": [
    "DemoCountryAll=set(democracy.Country)\n",
    "len(DemoCountryAll)"
   ]
  },
  {
   "cell_type": "code",
   "execution_count": null,
   "id": "former-committee",
   "metadata": {},
   "outputs": [],
   "source": [
    "MiliCountryAll=set(milimoney.Country)\n",
    "len(MiliCountryAll)"
   ]
  },
  {
   "cell_type": "code",
   "execution_count": null,
   "id": "improved-termination",
   "metadata": {},
   "outputs": [],
   "source": [
    "HdiCountryAll=set(hdidata.Country)\n",
    "len(HdiCountryAll)"
   ]
  },
  {
   "cell_type": "markdown",
   "id": "removable-hello",
   "metadata": {},
   "source": [
    "At least, we should aim to have an amount closer to 166 countries. However, in common we have now:"
   ]
  },
  {
   "cell_type": "code",
   "execution_count": null,
   "id": "supposed-statistics",
   "metadata": {},
   "outputs": [],
   "source": [
    "len(DemoCountryAll.intersection(MiliCountryAll).intersection(HdiCountryAll))"
   ]
  },
  {
   "cell_type": "markdown",
   "id": "accredited-africa",
   "metadata": {},
   "source": [
    "Let's compare _MiliCountryAll_ and _DemoCountryAll_:"
   ]
  },
  {
   "cell_type": "code",
   "execution_count": null,
   "id": "broadband-heaven",
   "metadata": {},
   "outputs": [],
   "source": [
    "# in MiliCountry that are not in DemoCountryAll\n",
    "MiliYes_DemoNo=MiliCountryAll.difference(DemoCountryAll)\n",
    "MiliYes_DemoNo"
   ]
  },
  {
   "cell_type": "code",
   "execution_count": null,
   "id": "educated-intellectual",
   "metadata": {},
   "outputs": [],
   "source": [
    "# in DemoCountryAll that are not in MiliCountry\n",
    "DemoYes_MiliNo=DemoCountryAll.difference(MiliCountryAll)\n",
    "DemoYes_MiliNo"
   ]
  },
  {
   "cell_type": "markdown",
   "id": "stable-showcase",
   "metadata": {},
   "source": [
    "Time to try matches:"
   ]
  },
  {
   "cell_type": "code",
   "execution_count": null,
   "id": "brown-triple",
   "metadata": {},
   "outputs": [],
   "source": [
    "#!pip install thefuzz[speedup]"
   ]
  },
  {
   "cell_type": "code",
   "execution_count": null,
   "id": "impressed-passport",
   "metadata": {},
   "outputs": [],
   "source": [
    "from thefuzz import process\n",
    "{mili:process.extractOne(mili,DemoYes_MiliNo)[0] for mili in sorted(MiliYes_DemoNo)}"
   ]
  },
  {
   "cell_type": "markdown",
   "id": "secondary-amount",
   "metadata": {},
   "source": [
    "There are some that can be recovered. Let's prepare the dict:"
   ]
  },
  {
   "cell_type": "code",
   "execution_count": null,
   "id": "portuguese-amount",
   "metadata": {},
   "outputs": [],
   "source": [
    "goodDemo={\n",
    "    #'Bahamas, The': 'Democratic Republic of the Congo',\n",
    "# 'Barbados': 'Gambia',\n",
    "# 'Belize': 'Czech Republic',\n",
    "# 'Brunei': 'Bhutan',\n",
    "# 'Burma': 'Bhutan',\n",
    " 'Cabo Verde': 'Cape Verde',\n",
    " 'Congo, Democratic Republic of the': 'Democratic Republic of the Congo',\n",
    " 'Congo, Republic of the': 'Republic of the Congo', #manual\n",
    " \"Cote d'Ivoire\": 'Ivory Coast',\n",
    " 'Czechia': 'Czech Republic',\n",
    " 'Gambia, The': 'Gambia',\n",
    " 'Korea, South': 'South Korea'\n",
    "# 'Kosovo': 'Comoros',\n",
    "# 'Seychelles': 'Czech Republic',\n",
    "# 'Somalia': 'Libya',\n",
    "# 'South Sudan': 'South Korea'\n",
    "}"
   ]
  },
  {
   "cell_type": "code",
   "execution_count": null,
   "id": "romance-tooth",
   "metadata": {},
   "outputs": [],
   "source": [
    "#updating in milimoney\n",
    "milimoney.Country.replace(goodDemo,inplace=True)"
   ]
  },
  {
   "cell_type": "markdown",
   "id": "chubby-charger",
   "metadata": {},
   "source": [
    "We can do the first merge:"
   ]
  },
  {
   "cell_type": "code",
   "execution_count": null,
   "id": "intense-appliance",
   "metadata": {},
   "outputs": [],
   "source": [
    "allmerged=democracy.merge(milimoney)\n",
    "allmerged"
   ]
  },
  {
   "cell_type": "markdown",
   "id": "appreciated-mitchell",
   "metadata": {},
   "source": [
    "Now, with some new names, let's go to the other data frame:"
   ]
  },
  {
   "cell_type": "code",
   "execution_count": null,
   "id": "successful-collect",
   "metadata": {},
   "outputs": [],
   "source": [
    "allmergedCountryAll=set(allmerged.Country)\n",
    "\n"
   ]
  },
  {
   "cell_type": "markdown",
   "id": "bottom-device",
   "metadata": {},
   "source": [
    "Let's redo the previous analysis:"
   ]
  },
  {
   "cell_type": "code",
   "execution_count": null,
   "id": "fatty-turtle",
   "metadata": {},
   "outputs": [],
   "source": [
    "# in allmerged that are not in HdiCountryAll\n",
    "allmergedYes_HdiNo=allmergedCountryAll.difference(HdiCountryAll)\n",
    "# in HdiCountryAll that are not in allmerged\n",
    "HdiYes_allmergedNo=HdiCountryAll.difference(allmergedCountryAll)"
   ]
  },
  {
   "cell_type": "code",
   "execution_count": null,
   "id": "retired-sharing",
   "metadata": {},
   "outputs": [],
   "source": [
    "#matches\n",
    "{allmr:process.extractOne(allmr,HdiYes_allmergedNo)[0] for allmr in sorted(allmergedYes_HdiNo)}"
   ]
  },
  {
   "cell_type": "code",
   "execution_count": null,
   "id": "initial-village",
   "metadata": {},
   "outputs": [],
   "source": [
    "#selecting\n",
    "hdiGood={'Eswatini': 'Swaziland',\n",
    " 'Iran': 'Iran (Islamic Republic of)',\n",
    " 'Ivory Coast': \"Cote d'Ivoire\",\n",
    " 'Laos': \"Lao People's Democratic Republic\", # manual\n",
    " 'Moldova': 'Republic of Moldova',\n",
    " 'North Macedonia': 'The former Yugoslav Republic of Macedonia',\n",
    " 'Republic of the Congo': 'Congo',\n",
    " 'South Korea': 'Korea, Republic of',#manual\n",
    " 'Tanzania': 'United Republic of Tanzania',\n",
    " 'Vietnam': 'Viet Nam'}"
   ]
  },
  {
   "cell_type": "markdown",
   "id": "massive-pennsylvania",
   "metadata": {},
   "source": [
    "The changes would be better if we change in the HDI data:"
   ]
  },
  {
   "cell_type": "code",
   "execution_count": null,
   "id": "obvious-auckland",
   "metadata": {},
   "outputs": [],
   "source": [
    "hdiGood_Change={v:k for k,v in hdiGood.items()}\n",
    "hdiGood_Change"
   ]
  },
  {
   "cell_type": "markdown",
   "id": "uniform-vienna",
   "metadata": {},
   "source": [
    "Then,"
   ]
  },
  {
   "cell_type": "code",
   "execution_count": null,
   "id": "prerequisite-court",
   "metadata": {},
   "outputs": [],
   "source": [
    "hdidata.Country.replace(hdiGood_Change,inplace=True)\n"
   ]
  },
  {
   "cell_type": "markdown",
   "id": "brutal-revision",
   "metadata": {},
   "source": [
    "Final merge:"
   ]
  },
  {
   "cell_type": "code",
   "execution_count": null,
   "id": "domestic-planner",
   "metadata": {},
   "outputs": [],
   "source": [
    "allmerged=allmerged.merge(hdidata)\n",
    "allmerged"
   ]
  },
  {
   "cell_type": "markdown",
   "id": "express-conspiracy",
   "metadata": {},
   "source": [
    "### 4. Preprocessing"
   ]
  },
  {
   "cell_type": "markdown",
   "id": "mounted-feelings",
   "metadata": {},
   "source": [
    "* _Check the strings in column names_:"
   ]
  },
  {
   "cell_type": "code",
   "execution_count": null,
   "id": "important-environment",
   "metadata": {},
   "outputs": [],
   "source": [
    "allmerged.columns.to_list()"
   ]
  },
  {
   "cell_type": "markdown",
   "id": "clear-korea",
   "metadata": {},
   "source": [
    "* _Clean strings_:"
   ]
  },
  {
   "cell_type": "code",
   "execution_count": null,
   "id": "fitting-daisy",
   "metadata": {},
   "outputs": [],
   "source": [
    "#replace '%' by \"share\"\n",
    "allmerged.columns=allmerged.columns.str.replace(\"\\%\",\"share\",regex=True)\n",
    "#replace 'spaces' by \"_\"\n",
    "allmerged.columns=allmerged.columns.str.replace(\"\\s\",\"_\",regex=True)\n",
    "#replace 'whatever is not a character' by \"\"\n",
    "allmerged.columns=allmerged.columns.str.replace(\"\\W\",\"\",regex=True)\n",
    "#current names\n",
    "allmerged.columns.to_list()"
   ]
  },
  {
   "cell_type": "markdown",
   "id": "outstanding-compression",
   "metadata": {},
   "source": [
    "* _Drop MORE unneeded columns_:"
   ]
  },
  {
   "cell_type": "code",
   "execution_count": null,
   "id": "virtual-miller",
   "metadata": {},
   "outputs": [],
   "source": [
    "#take a look:\n",
    "allmerged.columns[allmerged.columns.str.contains(\"Rank|Date|Δ\",regex=True)]"
   ]
  },
  {
   "cell_type": "code",
   "execution_count": null,
   "id": "floating-concrete",
   "metadata": {},
   "outputs": [],
   "source": [
    "#save column to drop\n",
    "toDrop=allmerged.columns[allmerged.columns.str.contains(\"Rank|Date|Δ\",regex=True)]\n",
    "# drop them\n",
    "allmerged.drop(columns=toDrop,inplace=True)\n",
    "# see result\n",
    "allmerged"
   ]
  },
  {
   "cell_type": "markdown",
   "id": "major-choir",
   "metadata": {},
   "source": [
    "* _Look for missing values and check for wrong data types_:"
   ]
  },
  {
   "cell_type": "code",
   "execution_count": null,
   "id": "stopped-offset",
   "metadata": {},
   "outputs": [],
   "source": [
    "allmerged.info()"
   ]
  },
  {
   "cell_type": "markdown",
   "id": "widespread-syndrome",
   "metadata": {},
   "source": [
    "a.Some missing values can be corrected, others cannot:"
   ]
  },
  {
   "cell_type": "code",
   "execution_count": null,
   "id": "academic-preview",
   "metadata": {},
   "outputs": [],
   "source": [
    "allmerged[allmerged.isnull().any(axis=1)]"
   ]
  },
  {
   "cell_type": "markdown",
   "id": "handled-jefferson",
   "metadata": {},
   "source": [
    "We can not use Taiwan, but Namibia can be kept."
   ]
  },
  {
   "cell_type": "code",
   "execution_count": null,
   "id": "brutal-crowd",
   "metadata": {},
   "outputs": [],
   "source": [
    "allmerged.loc[pd.isnull(allmerged.ISO2),'ISO2']='NA'"
   ]
  },
  {
   "cell_type": "markdown",
   "id": "expensive-spoke",
   "metadata": {},
   "source": [
    "Dropping rows with missing values:"
   ]
  },
  {
   "cell_type": "code",
   "execution_count": null,
   "id": "cardiac-paris",
   "metadata": {},
   "outputs": [],
   "source": [
    "allmerged.dropna(inplace=True)\n",
    "allmerged.reset_index(drop=True,inplace=True)\n",
    "allmerged"
   ]
  },
  {
   "cell_type": "markdown",
   "id": "precious-astronomy",
   "metadata": {},
   "source": [
    "b. Convert string to numerical"
   ]
  },
  {
   "cell_type": "code",
   "execution_count": null,
   "id": "russian-pottery",
   "metadata": {},
   "outputs": [],
   "source": [
    "toNumeric=['Overall_score',\n",
    " 'Electoral_process_and_pluralism', \n",
    " 'Functioning_of_government',\n",
    " 'Political_participation', 'Political_culture', 'Civil_liberties']\n",
    "allmerged.loc[:,toNumeric]=allmerged.loc[:,toNumeric].apply(lambda x: pd.to_numeric(x))"
   ]
  },
  {
   "cell_type": "markdown",
   "id": "knowing-tablet",
   "metadata": {},
   "source": [
    "c. Check ordinal variable:"
   ]
  },
  {
   "cell_type": "code",
   "execution_count": null,
   "id": "alternate-pizza",
   "metadata": {},
   "outputs": [],
   "source": [
    "#check levels:\n",
    "set(allmerged.Regime_type)"
   ]
  },
  {
   "cell_type": "code",
   "execution_count": null,
   "id": "swiss-thesis",
   "metadata": {},
   "outputs": [],
   "source": [
    "levels=['Authoritarian', 'Hybrid regime','Flawed democracy', 'Full democracy']\n",
    "allmerged.Regime_type=pd.Categorical(allmerged.Regime_type,\n",
    "                                     categories=levels,\n",
    "                                     ordered=True)"
   ]
  },
  {
   "cell_type": "code",
   "execution_count": null,
   "id": "scenic-sharp",
   "metadata": {},
   "outputs": [],
   "source": [
    "allmerged.Regime_type"
   ]
  },
  {
   "cell_type": "code",
   "execution_count": null,
   "id": "anticipated-alfred",
   "metadata": {},
   "outputs": [],
   "source": [
    "# review:\n",
    "allmerged.info()"
   ]
  },
  {
   "cell_type": "markdown",
   "id": "settled-pottery",
   "metadata": {},
   "source": [
    "Let's give better names to the main indices:"
   ]
  },
  {
   "cell_type": "code",
   "execution_count": null,
   "id": "cross-niagara",
   "metadata": {},
   "outputs": [],
   "source": [
    "LastNamesChanges={'Overall_score':'DemoIndex','share_of_GDP':'DefenseIndex','HDI':\"HDIndex\"}\n",
    "allmerged.rename(columns=LastNamesChanges,inplace=True)"
   ]
  },
  {
   "cell_type": "markdown",
   "id": "signal-mustang",
   "metadata": {},
   "source": [
    "d. Let's explore those variables:"
   ]
  },
  {
   "cell_type": "code",
   "execution_count": null,
   "id": "public-audit",
   "metadata": {},
   "outputs": [],
   "source": [
    "allmerged.loc[:,['DemoIndex','DefenseIndex',\"HDIndex\"]].describe()"
   ]
  },
  {
   "cell_type": "code",
   "execution_count": null,
   "id": "cleared-trade",
   "metadata": {},
   "outputs": [],
   "source": [
    "#!pip install seaborn"
   ]
  },
  {
   "cell_type": "code",
   "execution_count": null,
   "id": "cutting-lincoln",
   "metadata": {},
   "outputs": [],
   "source": [
    "import seaborn as sbn\n",
    "\n",
    "sbn.boxplot(data=allmerged.loc[:,['DemoIndex','DefenseIndex',\"HDIndex\"]], orient=\"h\", palette=\"Set2\")"
   ]
  },
  {
   "cell_type": "markdown",
   "id": "average-quilt",
   "metadata": {},
   "source": [
    "Adjust range of HDI:"
   ]
  },
  {
   "cell_type": "code",
   "execution_count": null,
   "id": "outer-revision",
   "metadata": {},
   "outputs": [],
   "source": [
    "allmerged.HDIndex=10*allmerged.HDIndex\n",
    "sbn.boxplot(data=allmerged.loc[:,['DemoIndex','DefenseIndex',\"HDIndex\"]], orient=\"h\", palette=\"Set2\")"
   ]
  },
  {
   "cell_type": "code",
   "execution_count": null,
   "id": "diverse-timothy",
   "metadata": {},
   "outputs": [],
   "source": [
    "Verifying correlation:"
   ]
  },
  {
   "cell_type": "code",
   "execution_count": null,
   "id": "premium-rogers",
   "metadata": {},
   "outputs": [],
   "source": [
    "sbn.pairplot(allmerged.loc[:,['DemoIndex','DefenseIndex',\"HDIndex\"]], corner=True)"
   ]
  },
  {
   "cell_type": "code",
   "execution_count": null,
   "id": "central-journal",
   "metadata": {},
   "outputs": [],
   "source": [
    "allmerged.loc[:,['DemoIndex','DefenseIndex',\"HDIndex\"]].corr()"
   ]
  },
  {
   "cell_type": "markdown",
   "id": "sustainable-testament",
   "metadata": {},
   "source": [
    "Force same monotony:"
   ]
  },
  {
   "cell_type": "code",
   "execution_count": null,
   "id": "south-footwear",
   "metadata": {},
   "outputs": [],
   "source": [
    "allmerged.DefenseIndex=-1*((allmerged.DefenseIndex-allmerged.DefenseIndex.max()))+allmerged.DefenseIndex.min()\n",
    "allmerged.DefenseIndex.describe()"
   ]
  },
  {
   "cell_type": "code",
   "execution_count": null,
   "id": "emerging-ensemble",
   "metadata": {},
   "outputs": [],
   "source": [
    "allmerged.loc[:,['DemoIndex','DefenseIndex',\"HDIndex\"]].corr()"
   ]
  },
  {
   "cell_type": "markdown",
   "id": "worse-friend",
   "metadata": {},
   "source": [
    "### 4. Save your work"
   ]
  },
  {
   "cell_type": "markdown",
   "id": "false-aggregate",
   "metadata": {},
   "source": [
    "* _Save data for R_:"
   ]
  },
  {
   "cell_type": "code",
   "execution_count": null,
   "id": "outside-gnome",
   "metadata": {},
   "outputs": [],
   "source": [
    "from rpy2.robjects import pandas2ri\n",
    "pandas2ri.activate()\n",
    "\n",
    "from rpy2.robjects.packages import importr\n",
    "\n",
    "base = importr('base')\n",
    "base.saveRDS(allmerged,file=\"allmerged_new.rds\")"
   ]
  },
  {
   "cell_type": "code",
   "execution_count": null,
   "id": "wired-basic",
   "metadata": {},
   "outputs": [],
   "source": []
  }
 ],
 "metadata": {
  "hide_input": false,
  "kernelspec": {
   "display_name": "Python 3",
   "language": "python",
   "name": "python3"
  },
  "language_info": {
   "codemirror_mode": {
    "name": "ipython",
    "version": 3
   },
   "file_extension": ".py",
   "mimetype": "text/x-python",
   "name": "python",
   "nbconvert_exporter": "python",
   "pygments_lexer": "ipython3",
   "version": "3.8.6"
  }
 },
 "nbformat": 4,
 "nbformat_minor": 5
}
