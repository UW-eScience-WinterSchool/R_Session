{
 "cells": [
  {
   "cell_type": "markdown",
   "id": "worldwide-yemen",
   "metadata": {},
   "source": [
    "### 1. Collect the data"
   ]
  },
  {
   "cell_type": "code",
   "execution_count": 132,
   "id": "pharmaceutical-middle",
   "metadata": {},
   "outputs": [],
   "source": [
    "import pandas as pd\n",
    "\n",
    "linkWiki=\"https://en.wikipedia.org/wiki/Democracy_Index\"\n",
    "democracy=pd.read_html(linkWiki, header=0,attrs={\"class\":\"wikitable sortable\"})[4]\n",
    "\n",
    "linkmil=\"https://www.cia.gov/the-world-factbook/field/military-expenditures/country-comparison\"\n",
    "\n",
    "milimoney=pd.read_html(linkmil)[0]\n",
    "\n",
    "linkHDI=\"https://github.com/UW-eScience-WinterSchool/Python_Session/raw/main/countryCodesHDI.xlsx\"\n",
    "hdidata=pd.read_excel(linkHDI)"
   ]
  },
  {
   "cell_type": "markdown",
   "id": "protecting-laser",
   "metadata": {},
   "source": [
    "### 2. Check column names"
   ]
  },
  {
   "cell_type": "code",
   "execution_count": 133,
   "id": "local-crime",
   "metadata": {},
   "outputs": [
    {
     "data": {
      "text/plain": [
       "Index(['Rank',\n",
       "       '.mw-parser-output .tooltip-dotted{border-bottom:1px dotted;cursor:help}Δ Rank',\n",
       "       'Country', 'Regime type', 'Overall score', 'Δ Score',\n",
       "       'Elec­toral pro­cess and plura­lism', 'Func­tioning of govern­ment',\n",
       "       'Poli­tical partici­pation', 'Poli­tical cul­ture', 'Civil liber­ties'],\n",
       "      dtype='object')"
      ]
     },
     "execution_count": 133,
     "metadata": {},
     "output_type": "execute_result"
    }
   ],
   "source": [
    "democracy.columns"
   ]
  },
  {
   "cell_type": "code",
   "execution_count": 134,
   "id": "applicable-cisco",
   "metadata": {},
   "outputs": [
    {
     "data": {
      "text/plain": [
       "Index(['Rank', 'Country', '% of GDP', 'Date of Information'], dtype='object')"
      ]
     },
     "execution_count": 134,
     "metadata": {},
     "output_type": "execute_result"
    }
   ],
   "source": [
    "milimoney.columns"
   ]
  },
  {
   "cell_type": "code",
   "execution_count": 135,
   "id": "considered-galaxy",
   "metadata": {},
   "outputs": [
    {
     "data": {
      "text/plain": [
       "Index(['FIPS', 'ISO2', 'ISO3', 'NAME', 'HDI'], dtype='object')"
      ]
     },
     "execution_count": 135,
     "metadata": {},
     "output_type": "execute_result"
    }
   ],
   "source": [
    "hdidata.columns"
   ]
  },
  {
   "cell_type": "markdown",
   "id": "synthetic-message",
   "metadata": {},
   "source": [
    "You checked column names to name the key columns for merge, and to get rid of columns that may bring trouble."
   ]
  },
  {
   "cell_type": "code",
   "execution_count": 136,
   "id": "israeli-nowhere",
   "metadata": {},
   "outputs": [],
   "source": [
    "# this renaming will make merge easier\n",
    "hdidata.rename(columns={'NAME':\"Country\"},inplace=True)"
   ]
  },
  {
   "cell_type": "code",
   "execution_count": 137,
   "id": "parental-crack",
   "metadata": {},
   "outputs": [],
   "source": [
    "# merge will likely use \"Rank\" as the key (leftmost common variable), so get rid of it before it happens:\n",
    "democracy.drop(columns=[\"Rank\"],inplace=True)\n",
    "milimoney.drop(columns=[\"Rank\"],inplace=True)"
   ]
  },
  {
   "cell_type": "markdown",
   "id": "unusual-carrier",
   "metadata": {},
   "source": [
    "## 3. Fuzzy merge\n",
    "\n",
    "Check how many countries are present:"
   ]
  },
  {
   "cell_type": "code",
   "execution_count": 138,
   "id": "continent-production",
   "metadata": {},
   "outputs": [
    {
     "data": {
      "text/plain": [
       "171"
      ]
     },
     "execution_count": 138,
     "metadata": {},
     "output_type": "execute_result"
    }
   ],
   "source": [
    "DemoCountryAll=set(democracy.Country)\n",
    "len(DemoCountryAll)"
   ]
  },
  {
   "cell_type": "code",
   "execution_count": 139,
   "id": "former-committee",
   "metadata": {},
   "outputs": [
    {
     "data": {
      "text/plain": [
       "166"
      ]
     },
     "execution_count": 139,
     "metadata": {},
     "output_type": "execute_result"
    }
   ],
   "source": [
    "MiliCountryAll=set(milimoney.Country)\n",
    "len(MiliCountryAll)"
   ]
  },
  {
   "cell_type": "code",
   "execution_count": 140,
   "id": "improved-termination",
   "metadata": {},
   "outputs": [
    {
     "data": {
      "text/plain": [
       "246"
      ]
     },
     "execution_count": 140,
     "metadata": {},
     "output_type": "execute_result"
    }
   ],
   "source": [
    "HdiCountryAll=set(hdidata.Country)\n",
    "len(HdiCountryAll)"
   ]
  },
  {
   "cell_type": "markdown",
   "id": "removable-hello",
   "metadata": {},
   "source": [
    "At least, we should have around 166 countries. However, in common we have now:"
   ]
  },
  {
   "cell_type": "code",
   "execution_count": 141,
   "id": "supposed-statistics",
   "metadata": {},
   "outputs": [
    {
     "data": {
      "text/plain": [
       "143"
      ]
     },
     "execution_count": 141,
     "metadata": {},
     "output_type": "execute_result"
    }
   ],
   "source": [
    "len(DemoCountryAll.intersection(MiliCountryAll).intersection(HdiCountryAll))"
   ]
  },
  {
   "cell_type": "markdown",
   "id": "accredited-africa",
   "metadata": {},
   "source": [
    "Let's make _MiliCountryAll_ the main country name source, then find out which are not matching from that list:"
   ]
  },
  {
   "cell_type": "code",
   "execution_count": 142,
   "id": "broadband-heaven",
   "metadata": {},
   "outputs": [
    {
     "data": {
      "text/plain": [
       "{'Bahamas, The',\n",
       " 'Barbados',\n",
       " 'Belize',\n",
       " 'Brunei',\n",
       " 'Burma',\n",
       " 'Cabo Verde',\n",
       " 'Congo, Democratic Republic of the',\n",
       " 'Congo, Republic of the',\n",
       " \"Cote d'Ivoire\",\n",
       " 'Czechia',\n",
       " 'Gambia, The',\n",
       " 'Korea, South',\n",
       " 'Kosovo',\n",
       " 'Seychelles',\n",
       " 'Somalia',\n",
       " 'South Sudan'}"
      ]
     },
     "execution_count": 142,
     "metadata": {},
     "output_type": "execute_result"
    }
   ],
   "source": [
    "# in MiliCountry that are not in DemoCountryAll\n",
    "MiliYes_DemoNo=MiliCountryAll.difference(DemoCountryAll)\n",
    "MiliYes_DemoNo"
   ]
  },
  {
   "cell_type": "code",
   "execution_count": 143,
   "id": "educated-intellectual",
   "metadata": {},
   "outputs": [
    {
     "data": {
      "text/plain": [
       "{'Authoritarian regimes',\n",
       " 'Bhutan',\n",
       " 'Cape Verde',\n",
       " 'Comoros',\n",
       " 'Czech Republic',\n",
       " 'Democratic Republic of the Congo',\n",
       " 'Flawed democracies',\n",
       " 'Full democracies',\n",
       " 'Gambia',\n",
       " 'Haiti',\n",
       " 'Hong Kong',\n",
       " 'Hybrid regimes',\n",
       " 'Iceland',\n",
       " 'Ivory Coast',\n",
       " 'Libya',\n",
       " 'Myanmar',\n",
       " 'North Korea',\n",
       " 'Palestine',\n",
       " 'Republic of the Congo',\n",
       " 'South Korea',\n",
       " 'Syria'}"
      ]
     },
     "execution_count": 143,
     "metadata": {},
     "output_type": "execute_result"
    }
   ],
   "source": [
    "DemoYes_MiliNo=DemoCountryAll.difference(MiliCountryAll)\n",
    "DemoYes_MiliNo"
   ]
  },
  {
   "cell_type": "code",
   "execution_count": 144,
   "id": "impressed-passport",
   "metadata": {},
   "outputs": [
    {
     "data": {
      "text/plain": [
       "{'Bahamas, The': 'Democratic Republic of the Congo',\n",
       " 'Barbados': 'Gambia',\n",
       " 'Belize': 'Czech Republic',\n",
       " 'Brunei': 'Bhutan',\n",
       " 'Burma': 'Bhutan',\n",
       " 'Cabo Verde': 'Cape Verde',\n",
       " 'Congo, Democratic Republic of the': 'Democratic Republic of the Congo',\n",
       " 'Congo, Republic of the': 'Democratic Republic of the Congo',\n",
       " \"Cote d'Ivoire\": 'Ivory Coast',\n",
       " 'Czechia': 'Czech Republic',\n",
       " 'Gambia, The': 'Gambia',\n",
       " 'Korea, South': 'South Korea',\n",
       " 'Kosovo': 'Comoros',\n",
       " 'Seychelles': 'Czech Republic',\n",
       " 'Somalia': 'Libya',\n",
       " 'South Sudan': 'South Korea'}"
      ]
     },
     "execution_count": 144,
     "metadata": {},
     "output_type": "execute_result"
    }
   ],
   "source": [
    "from thefuzz import process\n",
    "{mili:process.extractOne(mili,DemoYes_MiliNo)[0] for mili in sorted(MiliYes_DemoNo)}"
   ]
  },
  {
   "cell_type": "markdown",
   "id": "secondary-amount",
   "metadata": {},
   "source": [
    "There are some that can be recovered. Let's prepare the dict:"
   ]
  },
  {
   "cell_type": "code",
   "execution_count": 145,
   "id": "portuguese-amount",
   "metadata": {},
   "outputs": [],
   "source": [
    "goodDemo={\n",
    "    #'Bahamas, The': 'Democratic Republic of the Congo',\n",
    "# 'Barbados': 'Gambia',\n",
    "# 'Belize': 'Czech Republic',\n",
    "# 'Brunei': 'Bhutan',\n",
    "# 'Burma': 'Bhutan',\n",
    " 'Cabo Verde': 'Cape Verde',\n",
    " 'Congo, Democratic Republic of the': 'Democratic Republic of the Congo',\n",
    " 'Congo, Republic of the': 'Republic of the Congo', #manual\n",
    " \"Cote d'Ivoire\": 'Ivory Coast',\n",
    " 'Czechia': 'Czech Republic',\n",
    " 'Gambia, The': 'Gambia',\n",
    " 'Korea, South': 'South Korea'\n",
    "# 'Kosovo': 'Comoros',\n",
    "# 'Seychelles': 'Czech Republic',\n",
    "# 'Somalia': 'Libya',\n",
    "# 'South Sudan': 'South Korea'\n",
    "}"
   ]
  },
  {
   "cell_type": "code",
   "execution_count": 146,
   "id": "romance-tooth",
   "metadata": {},
   "outputs": [],
   "source": [
    "milimoney.Country.replace(goodDemo,inplace=True)"
   ]
  },
  {
   "cell_type": "markdown",
   "id": "chubby-charger",
   "metadata": {},
   "source": [
    "We can do the first merge:"
   ]
  },
  {
   "cell_type": "code",
   "execution_count": 147,
   "id": "intense-appliance",
   "metadata": {},
   "outputs": [
    {
     "data": {
      "text/html": [
       "<div>\n",
       "<style scoped>\n",
       "    .dataframe tbody tr th:only-of-type {\n",
       "        vertical-align: middle;\n",
       "    }\n",
       "\n",
       "    .dataframe tbody tr th {\n",
       "        vertical-align: top;\n",
       "    }\n",
       "\n",
       "    .dataframe thead th {\n",
       "        text-align: right;\n",
       "    }\n",
       "</style>\n",
       "<table border=\"1\" class=\"dataframe\">\n",
       "  <thead>\n",
       "    <tr style=\"text-align: right;\">\n",
       "      <th></th>\n",
       "      <th>.mw-parser-output .tooltip-dotted{border-bottom:1px dotted;cursor:help}Δ Rank</th>\n",
       "      <th>Country</th>\n",
       "      <th>Regime type</th>\n",
       "      <th>Overall score</th>\n",
       "      <th>Δ Score</th>\n",
       "      <th>Elec­toral pro­cess and plura­lism</th>\n",
       "      <th>Func­tioning of govern­ment</th>\n",
       "      <th>Poli­tical partici­pation</th>\n",
       "      <th>Poli­tical cul­ture</th>\n",
       "      <th>Civil liber­ties</th>\n",
       "      <th>% of GDP</th>\n",
       "      <th>Date of Information</th>\n",
       "    </tr>\n",
       "  </thead>\n",
       "  <tbody>\n",
       "    <tr>\n",
       "      <th>0</th>\n",
       "      <td>NaN</td>\n",
       "      <td>Norway</td>\n",
       "      <td>Full democracy</td>\n",
       "      <td>9.81</td>\n",
       "      <td>0.06</td>\n",
       "      <td>10.00</td>\n",
       "      <td>9.64</td>\n",
       "      <td>10.00</td>\n",
       "      <td>10.00</td>\n",
       "      <td>9.41</td>\n",
       "      <td>1.85</td>\n",
       "      <td>2021 est.</td>\n",
       "    </tr>\n",
       "    <tr>\n",
       "      <th>1</th>\n",
       "      <td>NaN</td>\n",
       "      <td>Sweden</td>\n",
       "      <td>Full democracy</td>\n",
       "      <td>9.26</td>\n",
       "      <td>0.13</td>\n",
       "      <td>9.58</td>\n",
       "      <td>9.29</td>\n",
       "      <td>8.33</td>\n",
       "      <td>10.00</td>\n",
       "      <td>9.12</td>\n",
       "      <td>1.40</td>\n",
       "      <td>2021 est.</td>\n",
       "    </tr>\n",
       "    <tr>\n",
       "      <th>2</th>\n",
       "      <td>NaN</td>\n",
       "      <td>New Zealand</td>\n",
       "      <td>Full democracy</td>\n",
       "      <td>9.25</td>\n",
       "      <td>0.01</td>\n",
       "      <td>10.00</td>\n",
       "      <td>8.93</td>\n",
       "      <td>8.89</td>\n",
       "      <td>8.75</td>\n",
       "      <td>9.71</td>\n",
       "      <td>1.50</td>\n",
       "      <td>2020</td>\n",
       "    </tr>\n",
       "    <tr>\n",
       "      <th>3</th>\n",
       "      <td>2</td>\n",
       "      <td>Canada</td>\n",
       "      <td>Full democracy</td>\n",
       "      <td>9.24</td>\n",
       "      <td>0.02</td>\n",
       "      <td>9.58</td>\n",
       "      <td>8.93</td>\n",
       "      <td>8.89</td>\n",
       "      <td>9.38</td>\n",
       "      <td>9.41</td>\n",
       "      <td>1.39</td>\n",
       "      <td>2021 est.</td>\n",
       "    </tr>\n",
       "    <tr>\n",
       "      <th>4</th>\n",
       "      <td>1</td>\n",
       "      <td>Finland</td>\n",
       "      <td>Full democracy</td>\n",
       "      <td>9.20</td>\n",
       "      <td>0.05</td>\n",
       "      <td>10.00</td>\n",
       "      <td>8.93</td>\n",
       "      <td>8.89</td>\n",
       "      <td>8.75</td>\n",
       "      <td>9.41</td>\n",
       "      <td>2.10</td>\n",
       "      <td>2021 est.</td>\n",
       "    </tr>\n",
       "    <tr>\n",
       "      <th>...</th>\n",
       "      <td>...</td>\n",
       "      <td>...</td>\n",
       "      <td>...</td>\n",
       "      <td>...</td>\n",
       "      <td>...</td>\n",
       "      <td>...</td>\n",
       "      <td>...</td>\n",
       "      <td>...</td>\n",
       "      <td>...</td>\n",
       "      <td>...</td>\n",
       "      <td>...</td>\n",
       "      <td>...</td>\n",
       "    </tr>\n",
       "    <tr>\n",
       "      <th>152</th>\n",
       "      <td>6</td>\n",
       "      <td>Laos</td>\n",
       "      <td>Authoritarian</td>\n",
       "      <td>1.77</td>\n",
       "      <td>0.37</td>\n",
       "      <td>0.00</td>\n",
       "      <td>2.86</td>\n",
       "      <td>1.67</td>\n",
       "      <td>3.75</td>\n",
       "      <td>0.59</td>\n",
       "      <td>0.20</td>\n",
       "      <td>2017 est.</td>\n",
       "    </tr>\n",
       "    <tr>\n",
       "      <th>153</th>\n",
       "      <td>NaN</td>\n",
       "      <td>Turkmenistan</td>\n",
       "      <td>Authoritarian</td>\n",
       "      <td>1.72</td>\n",
       "      <td>NaN</td>\n",
       "      <td>0.00</td>\n",
       "      <td>0.79</td>\n",
       "      <td>2.22</td>\n",
       "      <td>5.00</td>\n",
       "      <td>0.59</td>\n",
       "      <td>0.90</td>\n",
       "      <td>2020 est.</td>\n",
       "    </tr>\n",
       "    <tr>\n",
       "      <th>154</th>\n",
       "      <td>NaN</td>\n",
       "      <td>Chad</td>\n",
       "      <td>Authoritarian</td>\n",
       "      <td>1.55</td>\n",
       "      <td>0.06</td>\n",
       "      <td>0.00</td>\n",
       "      <td>0.00</td>\n",
       "      <td>1.67</td>\n",
       "      <td>3.75</td>\n",
       "      <td>2.35</td>\n",
       "      <td>2.90</td>\n",
       "      <td>2020 est.</td>\n",
       "    </tr>\n",
       "    <tr>\n",
       "      <th>155</th>\n",
       "      <td>NaN</td>\n",
       "      <td>Central African Republic</td>\n",
       "      <td>Authoritarian</td>\n",
       "      <td>1.32</td>\n",
       "      <td>NaN</td>\n",
       "      <td>1.25</td>\n",
       "      <td>0.00</td>\n",
       "      <td>1.11</td>\n",
       "      <td>1.88</td>\n",
       "      <td>2.35</td>\n",
       "      <td>1.80</td>\n",
       "      <td>2020 est.</td>\n",
       "    </tr>\n",
       "    <tr>\n",
       "      <th>156</th>\n",
       "      <td>NaN</td>\n",
       "      <td>Democratic Republic of the Congo</td>\n",
       "      <td>Authoritarian</td>\n",
       "      <td>1.13</td>\n",
       "      <td>NaN</td>\n",
       "      <td>0.00</td>\n",
       "      <td>0.00</td>\n",
       "      <td>1.67</td>\n",
       "      <td>3.13</td>\n",
       "      <td>0.88</td>\n",
       "      <td>0.60</td>\n",
       "      <td>2020 est.</td>\n",
       "    </tr>\n",
       "  </tbody>\n",
       "</table>\n",
       "<p>157 rows × 12 columns</p>\n",
       "</div>"
      ],
      "text/plain": [
       "    .mw-parser-output .tooltip-dotted{border-bottom:1px dotted;cursor:help}Δ Rank  \\\n",
       "0                                                  NaN                              \n",
       "1                                                  NaN                              \n",
       "2                                                  NaN                              \n",
       "3                                                    2                              \n",
       "4                                                    1                              \n",
       "..                                                 ...                              \n",
       "152                                                  6                              \n",
       "153                                                NaN                              \n",
       "154                                                NaN                              \n",
       "155                                                NaN                              \n",
       "156                                                NaN                              \n",
       "\n",
       "                              Country     Regime type Overall score Δ Score  \\\n",
       "0                              Norway  Full democracy          9.81    0.06   \n",
       "1                              Sweden  Full democracy          9.26    0.13   \n",
       "2                         New Zealand  Full democracy          9.25    0.01   \n",
       "3                              Canada  Full democracy          9.24    0.02   \n",
       "4                             Finland  Full democracy          9.20    0.05   \n",
       "..                                ...             ...           ...     ...   \n",
       "152                              Laos   Authoritarian          1.77    0.37   \n",
       "153                      Turkmenistan   Authoritarian          1.72     NaN   \n",
       "154                              Chad   Authoritarian          1.55    0.06   \n",
       "155          Central African Republic   Authoritarian          1.32     NaN   \n",
       "156  Democratic Republic of the Congo   Authoritarian          1.13     NaN   \n",
       "\n",
       "    Elec­toral pro­cess and plura­lism Func­tioning of govern­ment  \\\n",
       "0                                10.00                        9.64   \n",
       "1                                 9.58                        9.29   \n",
       "2                                10.00                        8.93   \n",
       "3                                 9.58                        8.93   \n",
       "4                                10.00                        8.93   \n",
       "..                                 ...                         ...   \n",
       "152                               0.00                        2.86   \n",
       "153                               0.00                        0.79   \n",
       "154                               0.00                        0.00   \n",
       "155                               1.25                        0.00   \n",
       "156                               0.00                        0.00   \n",
       "\n",
       "    Poli­tical partici­pation Poli­tical cul­ture Civil liber­ties  % of GDP  \\\n",
       "0                       10.00               10.00             9.41      1.85   \n",
       "1                        8.33               10.00             9.12      1.40   \n",
       "2                        8.89                8.75             9.71      1.50   \n",
       "3                        8.89                9.38             9.41      1.39   \n",
       "4                        8.89                8.75             9.41      2.10   \n",
       "..                        ...                 ...              ...       ...   \n",
       "152                      1.67                3.75             0.59      0.20   \n",
       "153                      2.22                5.00             0.59      0.90   \n",
       "154                      1.67                3.75             2.35      2.90   \n",
       "155                      1.11                1.88             2.35      1.80   \n",
       "156                      1.67                3.13             0.88      0.60   \n",
       "\n",
       "    Date of Information  \n",
       "0             2021 est.  \n",
       "1             2021 est.  \n",
       "2                  2020  \n",
       "3             2021 est.  \n",
       "4             2021 est.  \n",
       "..                  ...  \n",
       "152           2017 est.  \n",
       "153           2020 est.  \n",
       "154           2020 est.  \n",
       "155           2020 est.  \n",
       "156           2020 est.  \n",
       "\n",
       "[157 rows x 12 columns]"
      ]
     },
     "execution_count": 147,
     "metadata": {},
     "output_type": "execute_result"
    }
   ],
   "source": [
    "allmerged=democracy.merge(milimoney)\n",
    "allmerged"
   ]
  },
  {
   "cell_type": "markdown",
   "id": "appreciated-mitchell",
   "metadata": {},
   "source": [
    "Now, with some new names, let's go to the other data frame:"
   ]
  },
  {
   "cell_type": "code",
   "execution_count": 148,
   "id": "successful-collect",
   "metadata": {},
   "outputs": [],
   "source": [
    "allmergedCountryAll=set(allmerged.Country)\n",
    "\n",
    "# in MiliCountry that are not in HdiCountryAll\n",
    "allmergedYes_HdiNo=allmergedCountryAll.difference(HdiCountryAll)\n",
    "HdiYes_allmergedNo=HdiCountryAll.difference(allmergedCountryAll)"
   ]
  },
  {
   "cell_type": "code",
   "execution_count": 149,
   "id": "retired-sharing",
   "metadata": {},
   "outputs": [
    {
     "data": {
      "text/plain": [
       "{'Eswatini': 'Palestine',\n",
       " 'Iran': 'Iran (Islamic Republic of)',\n",
       " 'Ivory Coast': \"Cote d'Ivoire\",\n",
       " 'Laos': \"Lao People's Democratic Republic\",\n",
       " 'Moldova': 'Republic of Moldova',\n",
       " 'North Macedonia': 'The former Yugoslav Republic of Macedonia',\n",
       " 'Republic of the Congo': 'Congo',\n",
       " 'South Korea': 'Korea, Republic of',\n",
       " 'Tanzania': 'United Republic of Tanzania',\n",
       " 'Vietnam': 'Viet Nam'}"
      ]
     },
     "execution_count": 149,
     "metadata": {},
     "output_type": "execute_result"
    }
   ],
   "source": [
    "{allmr:process.extractOne(allmr,HdiYes_allmergedNo)[0] for allmr in sorted(allmergedYes_HdiNo)}"
   ]
  },
  {
   "cell_type": "code",
   "execution_count": 150,
   "id": "initial-village",
   "metadata": {},
   "outputs": [],
   "source": [
    "#selecting\n",
    "hdiGood={'Eswatini': 'Swaziland',\n",
    " 'Iran': 'Iran (Islamic Republic of)',\n",
    " 'Ivory Coast': \"Cote d'Ivoire\",\n",
    " 'Laos': \"Lao People's Democratic Republic\", # manual\n",
    " 'Moldova': 'Republic of Moldova',\n",
    " 'North Macedonia': 'The former Yugoslav Republic of Macedonia',\n",
    " 'Republic of the Congo': 'Congo',\n",
    " 'South Korea': 'Korea, Republic of',#manual\n",
    " 'Tanzania': 'United Republic of Tanzania',\n",
    " 'Vietnam': 'Viet Nam'}"
   ]
  },
  {
   "cell_type": "markdown",
   "id": "massive-pennsylvania",
   "metadata": {},
   "source": [
    "The changes would be better if we change in the HDI data:"
   ]
  },
  {
   "cell_type": "code",
   "execution_count": 151,
   "id": "obvious-auckland",
   "metadata": {},
   "outputs": [
    {
     "data": {
      "text/plain": [
       "{'Swaziland': 'Eswatini',\n",
       " 'Iran (Islamic Republic of)': 'Iran',\n",
       " \"Cote d'Ivoire\": 'Ivory Coast',\n",
       " \"Lao People's Democratic Republic\": 'Laos',\n",
       " 'Republic of Moldova': 'Moldova',\n",
       " 'The former Yugoslav Republic of Macedonia': 'North Macedonia',\n",
       " 'Congo': 'Republic of the Congo',\n",
       " 'Korea, Republic of': 'South Korea',\n",
       " 'United Republic of Tanzania': 'Tanzania',\n",
       " 'Viet Nam': 'Vietnam'}"
      ]
     },
     "execution_count": 151,
     "metadata": {},
     "output_type": "execute_result"
    }
   ],
   "source": [
    "hdiGood_Change={v:k for k,v in hdiGood.items()}\n",
    "hdiGood_Change"
   ]
  },
  {
   "cell_type": "markdown",
   "id": "uniform-vienna",
   "metadata": {},
   "source": [
    "Then,"
   ]
  },
  {
   "cell_type": "code",
   "execution_count": 152,
   "id": "prerequisite-court",
   "metadata": {},
   "outputs": [],
   "source": [
    "hdidata.Country.replace(hdiGood_Change,inplace=True)\n"
   ]
  },
  {
   "cell_type": "code",
   "execution_count": 153,
   "id": "domestic-planner",
   "metadata": {},
   "outputs": [
    {
     "data": {
      "text/html": [
       "<div>\n",
       "<style scoped>\n",
       "    .dataframe tbody tr th:only-of-type {\n",
       "        vertical-align: middle;\n",
       "    }\n",
       "\n",
       "    .dataframe tbody tr th {\n",
       "        vertical-align: top;\n",
       "    }\n",
       "\n",
       "    .dataframe thead th {\n",
       "        text-align: right;\n",
       "    }\n",
       "</style>\n",
       "<table border=\"1\" class=\"dataframe\">\n",
       "  <thead>\n",
       "    <tr style=\"text-align: right;\">\n",
       "      <th></th>\n",
       "      <th>.mw-parser-output .tooltip-dotted{border-bottom:1px dotted;cursor:help}Δ Rank</th>\n",
       "      <th>Country</th>\n",
       "      <th>Regime type</th>\n",
       "      <th>Overall score</th>\n",
       "      <th>Δ Score</th>\n",
       "      <th>Elec­toral pro­cess and plura­lism</th>\n",
       "      <th>Func­tioning of govern­ment</th>\n",
       "      <th>Poli­tical partici­pation</th>\n",
       "      <th>Poli­tical cul­ture</th>\n",
       "      <th>Civil liber­ties</th>\n",
       "      <th>% of GDP</th>\n",
       "      <th>Date of Information</th>\n",
       "      <th>FIPS</th>\n",
       "      <th>ISO2</th>\n",
       "      <th>ISO3</th>\n",
       "      <th>HDI</th>\n",
       "    </tr>\n",
       "  </thead>\n",
       "  <tbody>\n",
       "    <tr>\n",
       "      <th>0</th>\n",
       "      <td>NaN</td>\n",
       "      <td>Norway</td>\n",
       "      <td>Full democracy</td>\n",
       "      <td>9.81</td>\n",
       "      <td>0.06</td>\n",
       "      <td>10.00</td>\n",
       "      <td>9.64</td>\n",
       "      <td>10.00</td>\n",
       "      <td>10.00</td>\n",
       "      <td>9.41</td>\n",
       "      <td>1.85</td>\n",
       "      <td>2021 est.</td>\n",
       "      <td>NO</td>\n",
       "      <td>NO</td>\n",
       "      <td>NOR</td>\n",
       "      <td>0.957</td>\n",
       "    </tr>\n",
       "    <tr>\n",
       "      <th>1</th>\n",
       "      <td>NaN</td>\n",
       "      <td>Sweden</td>\n",
       "      <td>Full democracy</td>\n",
       "      <td>9.26</td>\n",
       "      <td>0.13</td>\n",
       "      <td>9.58</td>\n",
       "      <td>9.29</td>\n",
       "      <td>8.33</td>\n",
       "      <td>10.00</td>\n",
       "      <td>9.12</td>\n",
       "      <td>1.40</td>\n",
       "      <td>2021 est.</td>\n",
       "      <td>SW</td>\n",
       "      <td>SE</td>\n",
       "      <td>SWE</td>\n",
       "      <td>0.945</td>\n",
       "    </tr>\n",
       "    <tr>\n",
       "      <th>2</th>\n",
       "      <td>NaN</td>\n",
       "      <td>New Zealand</td>\n",
       "      <td>Full democracy</td>\n",
       "      <td>9.25</td>\n",
       "      <td>0.01</td>\n",
       "      <td>10.00</td>\n",
       "      <td>8.93</td>\n",
       "      <td>8.89</td>\n",
       "      <td>8.75</td>\n",
       "      <td>9.71</td>\n",
       "      <td>1.50</td>\n",
       "      <td>2020</td>\n",
       "      <td>NZ</td>\n",
       "      <td>NZ</td>\n",
       "      <td>NZL</td>\n",
       "      <td>0.931</td>\n",
       "    </tr>\n",
       "    <tr>\n",
       "      <th>3</th>\n",
       "      <td>2</td>\n",
       "      <td>Canada</td>\n",
       "      <td>Full democracy</td>\n",
       "      <td>9.24</td>\n",
       "      <td>0.02</td>\n",
       "      <td>9.58</td>\n",
       "      <td>8.93</td>\n",
       "      <td>8.89</td>\n",
       "      <td>9.38</td>\n",
       "      <td>9.41</td>\n",
       "      <td>1.39</td>\n",
       "      <td>2021 est.</td>\n",
       "      <td>CA</td>\n",
       "      <td>CA</td>\n",
       "      <td>CAN</td>\n",
       "      <td>0.929</td>\n",
       "    </tr>\n",
       "    <tr>\n",
       "      <th>4</th>\n",
       "      <td>1</td>\n",
       "      <td>Finland</td>\n",
       "      <td>Full democracy</td>\n",
       "      <td>9.20</td>\n",
       "      <td>0.05</td>\n",
       "      <td>10.00</td>\n",
       "      <td>8.93</td>\n",
       "      <td>8.89</td>\n",
       "      <td>8.75</td>\n",
       "      <td>9.41</td>\n",
       "      <td>2.10</td>\n",
       "      <td>2021 est.</td>\n",
       "      <td>FI</td>\n",
       "      <td>FI</td>\n",
       "      <td>FIN</td>\n",
       "      <td>0.938</td>\n",
       "    </tr>\n",
       "    <tr>\n",
       "      <th>...</th>\n",
       "      <td>...</td>\n",
       "      <td>...</td>\n",
       "      <td>...</td>\n",
       "      <td>...</td>\n",
       "      <td>...</td>\n",
       "      <td>...</td>\n",
       "      <td>...</td>\n",
       "      <td>...</td>\n",
       "      <td>...</td>\n",
       "      <td>...</td>\n",
       "      <td>...</td>\n",
       "      <td>...</td>\n",
       "      <td>...</td>\n",
       "      <td>...</td>\n",
       "      <td>...</td>\n",
       "      <td>...</td>\n",
       "    </tr>\n",
       "    <tr>\n",
       "      <th>152</th>\n",
       "      <td>6</td>\n",
       "      <td>Laos</td>\n",
       "      <td>Authoritarian</td>\n",
       "      <td>1.77</td>\n",
       "      <td>0.37</td>\n",
       "      <td>0.00</td>\n",
       "      <td>2.86</td>\n",
       "      <td>1.67</td>\n",
       "      <td>3.75</td>\n",
       "      <td>0.59</td>\n",
       "      <td>0.20</td>\n",
       "      <td>2017 est.</td>\n",
       "      <td>LA</td>\n",
       "      <td>LA</td>\n",
       "      <td>LAO</td>\n",
       "      <td>0.613</td>\n",
       "    </tr>\n",
       "    <tr>\n",
       "      <th>153</th>\n",
       "      <td>NaN</td>\n",
       "      <td>Turkmenistan</td>\n",
       "      <td>Authoritarian</td>\n",
       "      <td>1.72</td>\n",
       "      <td>NaN</td>\n",
       "      <td>0.00</td>\n",
       "      <td>0.79</td>\n",
       "      <td>2.22</td>\n",
       "      <td>5.00</td>\n",
       "      <td>0.59</td>\n",
       "      <td>0.90</td>\n",
       "      <td>2020 est.</td>\n",
       "      <td>TX</td>\n",
       "      <td>TM</td>\n",
       "      <td>TKM</td>\n",
       "      <td>0.715</td>\n",
       "    </tr>\n",
       "    <tr>\n",
       "      <th>154</th>\n",
       "      <td>NaN</td>\n",
       "      <td>Chad</td>\n",
       "      <td>Authoritarian</td>\n",
       "      <td>1.55</td>\n",
       "      <td>0.06</td>\n",
       "      <td>0.00</td>\n",
       "      <td>0.00</td>\n",
       "      <td>1.67</td>\n",
       "      <td>3.75</td>\n",
       "      <td>2.35</td>\n",
       "      <td>2.90</td>\n",
       "      <td>2020 est.</td>\n",
       "      <td>CD</td>\n",
       "      <td>TD</td>\n",
       "      <td>TCD</td>\n",
       "      <td>0.398</td>\n",
       "    </tr>\n",
       "    <tr>\n",
       "      <th>155</th>\n",
       "      <td>NaN</td>\n",
       "      <td>Central African Republic</td>\n",
       "      <td>Authoritarian</td>\n",
       "      <td>1.32</td>\n",
       "      <td>NaN</td>\n",
       "      <td>1.25</td>\n",
       "      <td>0.00</td>\n",
       "      <td>1.11</td>\n",
       "      <td>1.88</td>\n",
       "      <td>2.35</td>\n",
       "      <td>1.80</td>\n",
       "      <td>2020 est.</td>\n",
       "      <td>CT</td>\n",
       "      <td>CF</td>\n",
       "      <td>CAF</td>\n",
       "      <td>0.397</td>\n",
       "    </tr>\n",
       "    <tr>\n",
       "      <th>156</th>\n",
       "      <td>NaN</td>\n",
       "      <td>Democratic Republic of the Congo</td>\n",
       "      <td>Authoritarian</td>\n",
       "      <td>1.13</td>\n",
       "      <td>NaN</td>\n",
       "      <td>0.00</td>\n",
       "      <td>0.00</td>\n",
       "      <td>1.67</td>\n",
       "      <td>3.13</td>\n",
       "      <td>0.88</td>\n",
       "      <td>0.60</td>\n",
       "      <td>2020 est.</td>\n",
       "      <td>CG</td>\n",
       "      <td>CD</td>\n",
       "      <td>COD</td>\n",
       "      <td>0.480</td>\n",
       "    </tr>\n",
       "  </tbody>\n",
       "</table>\n",
       "<p>157 rows × 16 columns</p>\n",
       "</div>"
      ],
      "text/plain": [
       "    .mw-parser-output .tooltip-dotted{border-bottom:1px dotted;cursor:help}Δ Rank  \\\n",
       "0                                                  NaN                              \n",
       "1                                                  NaN                              \n",
       "2                                                  NaN                              \n",
       "3                                                    2                              \n",
       "4                                                    1                              \n",
       "..                                                 ...                              \n",
       "152                                                  6                              \n",
       "153                                                NaN                              \n",
       "154                                                NaN                              \n",
       "155                                                NaN                              \n",
       "156                                                NaN                              \n",
       "\n",
       "                              Country     Regime type Overall score Δ Score  \\\n",
       "0                              Norway  Full democracy          9.81    0.06   \n",
       "1                              Sweden  Full democracy          9.26    0.13   \n",
       "2                         New Zealand  Full democracy          9.25    0.01   \n",
       "3                              Canada  Full democracy          9.24    0.02   \n",
       "4                             Finland  Full democracy          9.20    0.05   \n",
       "..                                ...             ...           ...     ...   \n",
       "152                              Laos   Authoritarian          1.77    0.37   \n",
       "153                      Turkmenistan   Authoritarian          1.72     NaN   \n",
       "154                              Chad   Authoritarian          1.55    0.06   \n",
       "155          Central African Republic   Authoritarian          1.32     NaN   \n",
       "156  Democratic Republic of the Congo   Authoritarian          1.13     NaN   \n",
       "\n",
       "    Elec­toral pro­cess and plura­lism Func­tioning of govern­ment  \\\n",
       "0                                10.00                        9.64   \n",
       "1                                 9.58                        9.29   \n",
       "2                                10.00                        8.93   \n",
       "3                                 9.58                        8.93   \n",
       "4                                10.00                        8.93   \n",
       "..                                 ...                         ...   \n",
       "152                               0.00                        2.86   \n",
       "153                               0.00                        0.79   \n",
       "154                               0.00                        0.00   \n",
       "155                               1.25                        0.00   \n",
       "156                               0.00                        0.00   \n",
       "\n",
       "    Poli­tical partici­pation Poli­tical cul­ture Civil liber­ties  % of GDP  \\\n",
       "0                       10.00               10.00             9.41      1.85   \n",
       "1                        8.33               10.00             9.12      1.40   \n",
       "2                        8.89                8.75             9.71      1.50   \n",
       "3                        8.89                9.38             9.41      1.39   \n",
       "4                        8.89                8.75             9.41      2.10   \n",
       "..                        ...                 ...              ...       ...   \n",
       "152                      1.67                3.75             0.59      0.20   \n",
       "153                      2.22                5.00             0.59      0.90   \n",
       "154                      1.67                3.75             2.35      2.90   \n",
       "155                      1.11                1.88             2.35      1.80   \n",
       "156                      1.67                3.13             0.88      0.60   \n",
       "\n",
       "    Date of Information FIPS ISO2 ISO3    HDI  \n",
       "0             2021 est.   NO   NO  NOR  0.957  \n",
       "1             2021 est.   SW   SE  SWE  0.945  \n",
       "2                  2020   NZ   NZ  NZL  0.931  \n",
       "3             2021 est.   CA   CA  CAN  0.929  \n",
       "4             2021 est.   FI   FI  FIN  0.938  \n",
       "..                  ...  ...  ...  ...    ...  \n",
       "152           2017 est.   LA   LA  LAO  0.613  \n",
       "153           2020 est.   TX   TM  TKM  0.715  \n",
       "154           2020 est.   CD   TD  TCD  0.398  \n",
       "155           2020 est.   CT   CF  CAF  0.397  \n",
       "156           2020 est.   CG   CD  COD  0.480  \n",
       "\n",
       "[157 rows x 16 columns]"
      ]
     },
     "execution_count": 153,
     "metadata": {},
     "output_type": "execute_result"
    }
   ],
   "source": [
    "allmerged=allmerged.merge(hdidata)\n",
    "allmerged"
   ]
  },
  {
   "cell_type": "markdown",
   "id": "express-conspiracy",
   "metadata": {},
   "source": [
    "### 4. Preprocessing"
   ]
  },
  {
   "cell_type": "markdown",
   "id": "mounted-feelings",
   "metadata": {},
   "source": [
    "* _Check the strings in column names_:"
   ]
  },
  {
   "cell_type": "code",
   "execution_count": 154,
   "id": "important-environment",
   "metadata": {},
   "outputs": [
    {
     "data": {
      "text/plain": [
       "['.mw-parser-output .tooltip-dotted{border-bottom:1px dotted;cursor:help}Δ Rank',\n",
       " 'Country',\n",
       " 'Regime type',\n",
       " 'Overall score',\n",
       " 'Δ Score',\n",
       " 'Elec\\xadtoral pro\\xadcess and plura\\xadlism',\n",
       " 'Func\\xadtioning of govern\\xadment',\n",
       " 'Poli\\xadtical partici\\xadpation',\n",
       " 'Poli\\xadtical cul\\xadture',\n",
       " 'Civil liber\\xadties',\n",
       " '% of GDP',\n",
       " 'Date of Information',\n",
       " 'FIPS',\n",
       " 'ISO2',\n",
       " 'ISO3',\n",
       " 'HDI']"
      ]
     },
     "execution_count": 154,
     "metadata": {},
     "output_type": "execute_result"
    }
   ],
   "source": [
    "allmerged.columns.to_list()"
   ]
  },
  {
   "cell_type": "markdown",
   "id": "clear-korea",
   "metadata": {},
   "source": [
    "* _Clean strings_:"
   ]
  },
  {
   "cell_type": "code",
   "execution_count": 155,
   "id": "fitting-daisy",
   "metadata": {},
   "outputs": [
    {
     "data": {
      "text/plain": [
       "['mwparseroutput_tooltipdottedborderbottom1px_dottedcursorhelpΔ_Rank',\n",
       " 'Country',\n",
       " 'Regime_type',\n",
       " 'Overall_score',\n",
       " 'Δ_Score',\n",
       " 'Electoral_process_and_pluralism',\n",
       " 'Functioning_of_government',\n",
       " 'Political_participation',\n",
       " 'Political_culture',\n",
       " 'Civil_liberties',\n",
       " 'share_of_GDP',\n",
       " 'Date_of_Information',\n",
       " 'FIPS',\n",
       " 'ISO2',\n",
       " 'ISO3',\n",
       " 'HDI']"
      ]
     },
     "execution_count": 155,
     "metadata": {},
     "output_type": "execute_result"
    }
   ],
   "source": [
    "#replace '%' by \"share\"\n",
    "allmerged.columns=allmerged.columns.str.replace(\"\\%\",\"share\",regex=True)\n",
    "#replace 'spaces' by \"_\"\n",
    "allmerged.columns=allmerged.columns.str.replace(\"\\s\",\"_\",regex=True)\n",
    "#replace 'whatever is not a character' by \"\"\n",
    "allmerged.columns=allmerged.columns.str.replace(\"\\W\",\"\",regex=True)\n",
    "#current names\n",
    "allmerged.columns.to_list()"
   ]
  },
  {
   "cell_type": "markdown",
   "id": "outstanding-compression",
   "metadata": {},
   "source": [
    "* _Drop MORE unneeded columns_:"
   ]
  },
  {
   "cell_type": "code",
   "execution_count": 156,
   "id": "virtual-miller",
   "metadata": {},
   "outputs": [
    {
     "data": {
      "text/plain": [
       "Index(['mwparseroutput_tooltipdottedborderbottom1px_dottedcursorhelpΔ_Rank',\n",
       "       'Δ_Score', 'Date_of_Information'],\n",
       "      dtype='object')"
      ]
     },
     "execution_count": 156,
     "metadata": {},
     "output_type": "execute_result"
    }
   ],
   "source": [
    "#take a look:\n",
    "allmerged.columns[allmerged.columns.str.contains(\"Rank|Date|Δ\",regex=True)]"
   ]
  },
  {
   "cell_type": "code",
   "execution_count": 157,
   "id": "floating-concrete",
   "metadata": {},
   "outputs": [
    {
     "data": {
      "text/html": [
       "<div>\n",
       "<style scoped>\n",
       "    .dataframe tbody tr th:only-of-type {\n",
       "        vertical-align: middle;\n",
       "    }\n",
       "\n",
       "    .dataframe tbody tr th {\n",
       "        vertical-align: top;\n",
       "    }\n",
       "\n",
       "    .dataframe thead th {\n",
       "        text-align: right;\n",
       "    }\n",
       "</style>\n",
       "<table border=\"1\" class=\"dataframe\">\n",
       "  <thead>\n",
       "    <tr style=\"text-align: right;\">\n",
       "      <th></th>\n",
       "      <th>Country</th>\n",
       "      <th>Regime_type</th>\n",
       "      <th>Overall_score</th>\n",
       "      <th>Electoral_process_and_pluralism</th>\n",
       "      <th>Functioning_of_government</th>\n",
       "      <th>Political_participation</th>\n",
       "      <th>Political_culture</th>\n",
       "      <th>Civil_liberties</th>\n",
       "      <th>share_of_GDP</th>\n",
       "      <th>FIPS</th>\n",
       "      <th>ISO2</th>\n",
       "      <th>ISO3</th>\n",
       "      <th>HDI</th>\n",
       "    </tr>\n",
       "  </thead>\n",
       "  <tbody>\n",
       "    <tr>\n",
       "      <th>0</th>\n",
       "      <td>Norway</td>\n",
       "      <td>Full democracy</td>\n",
       "      <td>9.81</td>\n",
       "      <td>10.00</td>\n",
       "      <td>9.64</td>\n",
       "      <td>10.00</td>\n",
       "      <td>10.00</td>\n",
       "      <td>9.41</td>\n",
       "      <td>1.85</td>\n",
       "      <td>NO</td>\n",
       "      <td>NO</td>\n",
       "      <td>NOR</td>\n",
       "      <td>0.957</td>\n",
       "    </tr>\n",
       "    <tr>\n",
       "      <th>1</th>\n",
       "      <td>Sweden</td>\n",
       "      <td>Full democracy</td>\n",
       "      <td>9.26</td>\n",
       "      <td>9.58</td>\n",
       "      <td>9.29</td>\n",
       "      <td>8.33</td>\n",
       "      <td>10.00</td>\n",
       "      <td>9.12</td>\n",
       "      <td>1.40</td>\n",
       "      <td>SW</td>\n",
       "      <td>SE</td>\n",
       "      <td>SWE</td>\n",
       "      <td>0.945</td>\n",
       "    </tr>\n",
       "    <tr>\n",
       "      <th>2</th>\n",
       "      <td>New Zealand</td>\n",
       "      <td>Full democracy</td>\n",
       "      <td>9.25</td>\n",
       "      <td>10.00</td>\n",
       "      <td>8.93</td>\n",
       "      <td>8.89</td>\n",
       "      <td>8.75</td>\n",
       "      <td>9.71</td>\n",
       "      <td>1.50</td>\n",
       "      <td>NZ</td>\n",
       "      <td>NZ</td>\n",
       "      <td>NZL</td>\n",
       "      <td>0.931</td>\n",
       "    </tr>\n",
       "    <tr>\n",
       "      <th>3</th>\n",
       "      <td>Canada</td>\n",
       "      <td>Full democracy</td>\n",
       "      <td>9.24</td>\n",
       "      <td>9.58</td>\n",
       "      <td>8.93</td>\n",
       "      <td>8.89</td>\n",
       "      <td>9.38</td>\n",
       "      <td>9.41</td>\n",
       "      <td>1.39</td>\n",
       "      <td>CA</td>\n",
       "      <td>CA</td>\n",
       "      <td>CAN</td>\n",
       "      <td>0.929</td>\n",
       "    </tr>\n",
       "    <tr>\n",
       "      <th>4</th>\n",
       "      <td>Finland</td>\n",
       "      <td>Full democracy</td>\n",
       "      <td>9.20</td>\n",
       "      <td>10.00</td>\n",
       "      <td>8.93</td>\n",
       "      <td>8.89</td>\n",
       "      <td>8.75</td>\n",
       "      <td>9.41</td>\n",
       "      <td>2.10</td>\n",
       "      <td>FI</td>\n",
       "      <td>FI</td>\n",
       "      <td>FIN</td>\n",
       "      <td>0.938</td>\n",
       "    </tr>\n",
       "    <tr>\n",
       "      <th>...</th>\n",
       "      <td>...</td>\n",
       "      <td>...</td>\n",
       "      <td>...</td>\n",
       "      <td>...</td>\n",
       "      <td>...</td>\n",
       "      <td>...</td>\n",
       "      <td>...</td>\n",
       "      <td>...</td>\n",
       "      <td>...</td>\n",
       "      <td>...</td>\n",
       "      <td>...</td>\n",
       "      <td>...</td>\n",
       "      <td>...</td>\n",
       "    </tr>\n",
       "    <tr>\n",
       "      <th>152</th>\n",
       "      <td>Laos</td>\n",
       "      <td>Authoritarian</td>\n",
       "      <td>1.77</td>\n",
       "      <td>0.00</td>\n",
       "      <td>2.86</td>\n",
       "      <td>1.67</td>\n",
       "      <td>3.75</td>\n",
       "      <td>0.59</td>\n",
       "      <td>0.20</td>\n",
       "      <td>LA</td>\n",
       "      <td>LA</td>\n",
       "      <td>LAO</td>\n",
       "      <td>0.613</td>\n",
       "    </tr>\n",
       "    <tr>\n",
       "      <th>153</th>\n",
       "      <td>Turkmenistan</td>\n",
       "      <td>Authoritarian</td>\n",
       "      <td>1.72</td>\n",
       "      <td>0.00</td>\n",
       "      <td>0.79</td>\n",
       "      <td>2.22</td>\n",
       "      <td>5.00</td>\n",
       "      <td>0.59</td>\n",
       "      <td>0.90</td>\n",
       "      <td>TX</td>\n",
       "      <td>TM</td>\n",
       "      <td>TKM</td>\n",
       "      <td>0.715</td>\n",
       "    </tr>\n",
       "    <tr>\n",
       "      <th>154</th>\n",
       "      <td>Chad</td>\n",
       "      <td>Authoritarian</td>\n",
       "      <td>1.55</td>\n",
       "      <td>0.00</td>\n",
       "      <td>0.00</td>\n",
       "      <td>1.67</td>\n",
       "      <td>3.75</td>\n",
       "      <td>2.35</td>\n",
       "      <td>2.90</td>\n",
       "      <td>CD</td>\n",
       "      <td>TD</td>\n",
       "      <td>TCD</td>\n",
       "      <td>0.398</td>\n",
       "    </tr>\n",
       "    <tr>\n",
       "      <th>155</th>\n",
       "      <td>Central African Republic</td>\n",
       "      <td>Authoritarian</td>\n",
       "      <td>1.32</td>\n",
       "      <td>1.25</td>\n",
       "      <td>0.00</td>\n",
       "      <td>1.11</td>\n",
       "      <td>1.88</td>\n",
       "      <td>2.35</td>\n",
       "      <td>1.80</td>\n",
       "      <td>CT</td>\n",
       "      <td>CF</td>\n",
       "      <td>CAF</td>\n",
       "      <td>0.397</td>\n",
       "    </tr>\n",
       "    <tr>\n",
       "      <th>156</th>\n",
       "      <td>Democratic Republic of the Congo</td>\n",
       "      <td>Authoritarian</td>\n",
       "      <td>1.13</td>\n",
       "      <td>0.00</td>\n",
       "      <td>0.00</td>\n",
       "      <td>1.67</td>\n",
       "      <td>3.13</td>\n",
       "      <td>0.88</td>\n",
       "      <td>0.60</td>\n",
       "      <td>CG</td>\n",
       "      <td>CD</td>\n",
       "      <td>COD</td>\n",
       "      <td>0.480</td>\n",
       "    </tr>\n",
       "  </tbody>\n",
       "</table>\n",
       "<p>157 rows × 13 columns</p>\n",
       "</div>"
      ],
      "text/plain": [
       "                              Country     Regime_type Overall_score  \\\n",
       "0                              Norway  Full democracy          9.81   \n",
       "1                              Sweden  Full democracy          9.26   \n",
       "2                         New Zealand  Full democracy          9.25   \n",
       "3                              Canada  Full democracy          9.24   \n",
       "4                             Finland  Full democracy          9.20   \n",
       "..                                ...             ...           ...   \n",
       "152                              Laos   Authoritarian          1.77   \n",
       "153                      Turkmenistan   Authoritarian          1.72   \n",
       "154                              Chad   Authoritarian          1.55   \n",
       "155          Central African Republic   Authoritarian          1.32   \n",
       "156  Democratic Republic of the Congo   Authoritarian          1.13   \n",
       "\n",
       "    Electoral_process_and_pluralism Functioning_of_government  \\\n",
       "0                             10.00                      9.64   \n",
       "1                              9.58                      9.29   \n",
       "2                             10.00                      8.93   \n",
       "3                              9.58                      8.93   \n",
       "4                             10.00                      8.93   \n",
       "..                              ...                       ...   \n",
       "152                            0.00                      2.86   \n",
       "153                            0.00                      0.79   \n",
       "154                            0.00                      0.00   \n",
       "155                            1.25                      0.00   \n",
       "156                            0.00                      0.00   \n",
       "\n",
       "    Political_participation Political_culture Civil_liberties  share_of_GDP  \\\n",
       "0                     10.00             10.00            9.41          1.85   \n",
       "1                      8.33             10.00            9.12          1.40   \n",
       "2                      8.89              8.75            9.71          1.50   \n",
       "3                      8.89              9.38            9.41          1.39   \n",
       "4                      8.89              8.75            9.41          2.10   \n",
       "..                      ...               ...             ...           ...   \n",
       "152                    1.67              3.75            0.59          0.20   \n",
       "153                    2.22              5.00            0.59          0.90   \n",
       "154                    1.67              3.75            2.35          2.90   \n",
       "155                    1.11              1.88            2.35          1.80   \n",
       "156                    1.67              3.13            0.88          0.60   \n",
       "\n",
       "    FIPS ISO2 ISO3    HDI  \n",
       "0     NO   NO  NOR  0.957  \n",
       "1     SW   SE  SWE  0.945  \n",
       "2     NZ   NZ  NZL  0.931  \n",
       "3     CA   CA  CAN  0.929  \n",
       "4     FI   FI  FIN  0.938  \n",
       "..   ...  ...  ...    ...  \n",
       "152   LA   LA  LAO  0.613  \n",
       "153   TX   TM  TKM  0.715  \n",
       "154   CD   TD  TCD  0.398  \n",
       "155   CT   CF  CAF  0.397  \n",
       "156   CG   CD  COD  0.480  \n",
       "\n",
       "[157 rows x 13 columns]"
      ]
     },
     "execution_count": 157,
     "metadata": {},
     "output_type": "execute_result"
    }
   ],
   "source": [
    "#save column to drop\n",
    "toDrop=allmerged.columns[allmerged.columns.str.contains(\"Rank|Date|Δ\",regex=True)]\n",
    "# drop them\n",
    "allmerged.drop(columns=toDrop,inplace=True)\n",
    "# see result\n",
    "allmerged"
   ]
  },
  {
   "cell_type": "markdown",
   "id": "major-choir",
   "metadata": {},
   "source": [
    "* _Look for missing values and check for wrong data types_:"
   ]
  },
  {
   "cell_type": "code",
   "execution_count": 158,
   "id": "stopped-offset",
   "metadata": {},
   "outputs": [
    {
     "name": "stdout",
     "output_type": "stream",
     "text": [
      "<class 'pandas.core.frame.DataFrame'>\n",
      "Int64Index: 157 entries, 0 to 156\n",
      "Data columns (total 13 columns):\n",
      " #   Column                           Non-Null Count  Dtype  \n",
      "---  ------                           --------------  -----  \n",
      " 0   Country                          157 non-null    object \n",
      " 1   Regime_type                      157 non-null    object \n",
      " 2   Overall_score                    157 non-null    object \n",
      " 3   Electoral_process_and_pluralism  157 non-null    object \n",
      " 4   Functioning_of_government        157 non-null    object \n",
      " 5   Political_participation          157 non-null    object \n",
      " 6   Political_culture                157 non-null    object \n",
      " 7   Civil_liberties                  157 non-null    object \n",
      " 8   share_of_GDP                     157 non-null    float64\n",
      " 9   FIPS                             157 non-null    object \n",
      " 10  ISO2                             156 non-null    object \n",
      " 11  ISO3                             157 non-null    object \n",
      " 12  HDI                              156 non-null    float64\n",
      "dtypes: float64(2), object(11)\n",
      "memory usage: 17.2+ KB\n"
     ]
    }
   ],
   "source": [
    "allmerged.info()"
   ]
  },
  {
   "cell_type": "markdown",
   "id": "widespread-syndrome",
   "metadata": {},
   "source": [
    "a. Some missing values can be corrected, others cannot:"
   ]
  },
  {
   "cell_type": "code",
   "execution_count": 159,
   "id": "academic-preview",
   "metadata": {},
   "outputs": [
    {
     "data": {
      "text/html": [
       "<div>\n",
       "<style scoped>\n",
       "    .dataframe tbody tr th:only-of-type {\n",
       "        vertical-align: middle;\n",
       "    }\n",
       "\n",
       "    .dataframe tbody tr th {\n",
       "        vertical-align: top;\n",
       "    }\n",
       "\n",
       "    .dataframe thead th {\n",
       "        text-align: right;\n",
       "    }\n",
       "</style>\n",
       "<table border=\"1\" class=\"dataframe\">\n",
       "  <thead>\n",
       "    <tr style=\"text-align: right;\">\n",
       "      <th></th>\n",
       "      <th>Country</th>\n",
       "      <th>Regime_type</th>\n",
       "      <th>Overall_score</th>\n",
       "      <th>Electoral_process_and_pluralism</th>\n",
       "      <th>Functioning_of_government</th>\n",
       "      <th>Political_participation</th>\n",
       "      <th>Political_culture</th>\n",
       "      <th>Civil_liberties</th>\n",
       "      <th>share_of_GDP</th>\n",
       "      <th>FIPS</th>\n",
       "      <th>ISO2</th>\n",
       "      <th>ISO3</th>\n",
       "      <th>HDI</th>\n",
       "    </tr>\n",
       "  </thead>\n",
       "  <tbody>\n",
       "    <tr>\n",
       "      <th>9</th>\n",
       "      <td>Taiwan</td>\n",
       "      <td>Full democracy</td>\n",
       "      <td>8.94</td>\n",
       "      <td>10.00</td>\n",
       "      <td>9.64</td>\n",
       "      <td>7.22</td>\n",
       "      <td>8.13</td>\n",
       "      <td>9.71</td>\n",
       "      <td>2.1</td>\n",
       "      <td>TW</td>\n",
       "      <td>TW</td>\n",
       "      <td>TWN</td>\n",
       "      <td>NaN</td>\n",
       "    </tr>\n",
       "    <tr>\n",
       "      <th>56</th>\n",
       "      <td>Namibia</td>\n",
       "      <td>Flawed democracy</td>\n",
       "      <td>6.52</td>\n",
       "      <td>7.00</td>\n",
       "      <td>5.36</td>\n",
       "      <td>6.67</td>\n",
       "      <td>5.63</td>\n",
       "      <td>7.94</td>\n",
       "      <td>3.4</td>\n",
       "      <td>WA</td>\n",
       "      <td>NaN</td>\n",
       "      <td>NAM</td>\n",
       "      <td>0.646</td>\n",
       "    </tr>\n",
       "  </tbody>\n",
       "</table>\n",
       "</div>"
      ],
      "text/plain": [
       "    Country       Regime_type Overall_score Electoral_process_and_pluralism  \\\n",
       "9    Taiwan    Full democracy          8.94                           10.00   \n",
       "56  Namibia  Flawed democracy          6.52                            7.00   \n",
       "\n",
       "   Functioning_of_government Political_participation Political_culture  \\\n",
       "9                       9.64                    7.22              8.13   \n",
       "56                      5.36                    6.67              5.63   \n",
       "\n",
       "   Civil_liberties  share_of_GDP FIPS ISO2 ISO3    HDI  \n",
       "9             9.71           2.1   TW   TW  TWN    NaN  \n",
       "56            7.94           3.4   WA  NaN  NAM  0.646  "
      ]
     },
     "execution_count": 159,
     "metadata": {},
     "output_type": "execute_result"
    }
   ],
   "source": [
    "allmerged[allmerged.isnull().any(axis=1)]"
   ]
  },
  {
   "cell_type": "markdown",
   "id": "handled-jefferson",
   "metadata": {},
   "source": [
    "We can not use Taiwan, but Namibia can be kept."
   ]
  },
  {
   "cell_type": "code",
   "execution_count": 160,
   "id": "brutal-crowd",
   "metadata": {},
   "outputs": [],
   "source": [
    "allmerged.loc[pd.isnull(allmerged.ISO2),'ISO2']='NA'"
   ]
  },
  {
   "cell_type": "markdown",
   "id": "expensive-spoke",
   "metadata": {},
   "source": [
    "Dropping rows with missing values:"
   ]
  },
  {
   "cell_type": "code",
   "execution_count": 161,
   "id": "cardiac-paris",
   "metadata": {},
   "outputs": [
    {
     "data": {
      "text/html": [
       "<div>\n",
       "<style scoped>\n",
       "    .dataframe tbody tr th:only-of-type {\n",
       "        vertical-align: middle;\n",
       "    }\n",
       "\n",
       "    .dataframe tbody tr th {\n",
       "        vertical-align: top;\n",
       "    }\n",
       "\n",
       "    .dataframe thead th {\n",
       "        text-align: right;\n",
       "    }\n",
       "</style>\n",
       "<table border=\"1\" class=\"dataframe\">\n",
       "  <thead>\n",
       "    <tr style=\"text-align: right;\">\n",
       "      <th></th>\n",
       "      <th>Country</th>\n",
       "      <th>Regime_type</th>\n",
       "      <th>Overall_score</th>\n",
       "      <th>Electoral_process_and_pluralism</th>\n",
       "      <th>Functioning_of_government</th>\n",
       "      <th>Political_participation</th>\n",
       "      <th>Political_culture</th>\n",
       "      <th>Civil_liberties</th>\n",
       "      <th>share_of_GDP</th>\n",
       "      <th>FIPS</th>\n",
       "      <th>ISO2</th>\n",
       "      <th>ISO3</th>\n",
       "      <th>HDI</th>\n",
       "    </tr>\n",
       "  </thead>\n",
       "  <tbody>\n",
       "    <tr>\n",
       "      <th>0</th>\n",
       "      <td>Norway</td>\n",
       "      <td>Full democracy</td>\n",
       "      <td>9.81</td>\n",
       "      <td>10.00</td>\n",
       "      <td>9.64</td>\n",
       "      <td>10.00</td>\n",
       "      <td>10.00</td>\n",
       "      <td>9.41</td>\n",
       "      <td>1.85</td>\n",
       "      <td>NO</td>\n",
       "      <td>NO</td>\n",
       "      <td>NOR</td>\n",
       "      <td>0.957</td>\n",
       "    </tr>\n",
       "    <tr>\n",
       "      <th>1</th>\n",
       "      <td>Sweden</td>\n",
       "      <td>Full democracy</td>\n",
       "      <td>9.26</td>\n",
       "      <td>9.58</td>\n",
       "      <td>9.29</td>\n",
       "      <td>8.33</td>\n",
       "      <td>10.00</td>\n",
       "      <td>9.12</td>\n",
       "      <td>1.40</td>\n",
       "      <td>SW</td>\n",
       "      <td>SE</td>\n",
       "      <td>SWE</td>\n",
       "      <td>0.945</td>\n",
       "    </tr>\n",
       "    <tr>\n",
       "      <th>2</th>\n",
       "      <td>New Zealand</td>\n",
       "      <td>Full democracy</td>\n",
       "      <td>9.25</td>\n",
       "      <td>10.00</td>\n",
       "      <td>8.93</td>\n",
       "      <td>8.89</td>\n",
       "      <td>8.75</td>\n",
       "      <td>9.71</td>\n",
       "      <td>1.50</td>\n",
       "      <td>NZ</td>\n",
       "      <td>NZ</td>\n",
       "      <td>NZL</td>\n",
       "      <td>0.931</td>\n",
       "    </tr>\n",
       "    <tr>\n",
       "      <th>3</th>\n",
       "      <td>Canada</td>\n",
       "      <td>Full democracy</td>\n",
       "      <td>9.24</td>\n",
       "      <td>9.58</td>\n",
       "      <td>8.93</td>\n",
       "      <td>8.89</td>\n",
       "      <td>9.38</td>\n",
       "      <td>9.41</td>\n",
       "      <td>1.39</td>\n",
       "      <td>CA</td>\n",
       "      <td>CA</td>\n",
       "      <td>CAN</td>\n",
       "      <td>0.929</td>\n",
       "    </tr>\n",
       "    <tr>\n",
       "      <th>4</th>\n",
       "      <td>Finland</td>\n",
       "      <td>Full democracy</td>\n",
       "      <td>9.20</td>\n",
       "      <td>10.00</td>\n",
       "      <td>8.93</td>\n",
       "      <td>8.89</td>\n",
       "      <td>8.75</td>\n",
       "      <td>9.41</td>\n",
       "      <td>2.10</td>\n",
       "      <td>FI</td>\n",
       "      <td>FI</td>\n",
       "      <td>FIN</td>\n",
       "      <td>0.938</td>\n",
       "    </tr>\n",
       "    <tr>\n",
       "      <th>...</th>\n",
       "      <td>...</td>\n",
       "      <td>...</td>\n",
       "      <td>...</td>\n",
       "      <td>...</td>\n",
       "      <td>...</td>\n",
       "      <td>...</td>\n",
       "      <td>...</td>\n",
       "      <td>...</td>\n",
       "      <td>...</td>\n",
       "      <td>...</td>\n",
       "      <td>...</td>\n",
       "      <td>...</td>\n",
       "      <td>...</td>\n",
       "    </tr>\n",
       "    <tr>\n",
       "      <th>151</th>\n",
       "      <td>Laos</td>\n",
       "      <td>Authoritarian</td>\n",
       "      <td>1.77</td>\n",
       "      <td>0.00</td>\n",
       "      <td>2.86</td>\n",
       "      <td>1.67</td>\n",
       "      <td>3.75</td>\n",
       "      <td>0.59</td>\n",
       "      <td>0.20</td>\n",
       "      <td>LA</td>\n",
       "      <td>LA</td>\n",
       "      <td>LAO</td>\n",
       "      <td>0.613</td>\n",
       "    </tr>\n",
       "    <tr>\n",
       "      <th>152</th>\n",
       "      <td>Turkmenistan</td>\n",
       "      <td>Authoritarian</td>\n",
       "      <td>1.72</td>\n",
       "      <td>0.00</td>\n",
       "      <td>0.79</td>\n",
       "      <td>2.22</td>\n",
       "      <td>5.00</td>\n",
       "      <td>0.59</td>\n",
       "      <td>0.90</td>\n",
       "      <td>TX</td>\n",
       "      <td>TM</td>\n",
       "      <td>TKM</td>\n",
       "      <td>0.715</td>\n",
       "    </tr>\n",
       "    <tr>\n",
       "      <th>153</th>\n",
       "      <td>Chad</td>\n",
       "      <td>Authoritarian</td>\n",
       "      <td>1.55</td>\n",
       "      <td>0.00</td>\n",
       "      <td>0.00</td>\n",
       "      <td>1.67</td>\n",
       "      <td>3.75</td>\n",
       "      <td>2.35</td>\n",
       "      <td>2.90</td>\n",
       "      <td>CD</td>\n",
       "      <td>TD</td>\n",
       "      <td>TCD</td>\n",
       "      <td>0.398</td>\n",
       "    </tr>\n",
       "    <tr>\n",
       "      <th>154</th>\n",
       "      <td>Central African Republic</td>\n",
       "      <td>Authoritarian</td>\n",
       "      <td>1.32</td>\n",
       "      <td>1.25</td>\n",
       "      <td>0.00</td>\n",
       "      <td>1.11</td>\n",
       "      <td>1.88</td>\n",
       "      <td>2.35</td>\n",
       "      <td>1.80</td>\n",
       "      <td>CT</td>\n",
       "      <td>CF</td>\n",
       "      <td>CAF</td>\n",
       "      <td>0.397</td>\n",
       "    </tr>\n",
       "    <tr>\n",
       "      <th>155</th>\n",
       "      <td>Democratic Republic of the Congo</td>\n",
       "      <td>Authoritarian</td>\n",
       "      <td>1.13</td>\n",
       "      <td>0.00</td>\n",
       "      <td>0.00</td>\n",
       "      <td>1.67</td>\n",
       "      <td>3.13</td>\n",
       "      <td>0.88</td>\n",
       "      <td>0.60</td>\n",
       "      <td>CG</td>\n",
       "      <td>CD</td>\n",
       "      <td>COD</td>\n",
       "      <td>0.480</td>\n",
       "    </tr>\n",
       "  </tbody>\n",
       "</table>\n",
       "<p>156 rows × 13 columns</p>\n",
       "</div>"
      ],
      "text/plain": [
       "                              Country     Regime_type Overall_score  \\\n",
       "0                              Norway  Full democracy          9.81   \n",
       "1                              Sweden  Full democracy          9.26   \n",
       "2                         New Zealand  Full democracy          9.25   \n",
       "3                              Canada  Full democracy          9.24   \n",
       "4                             Finland  Full democracy          9.20   \n",
       "..                                ...             ...           ...   \n",
       "151                              Laos   Authoritarian          1.77   \n",
       "152                      Turkmenistan   Authoritarian          1.72   \n",
       "153                              Chad   Authoritarian          1.55   \n",
       "154          Central African Republic   Authoritarian          1.32   \n",
       "155  Democratic Republic of the Congo   Authoritarian          1.13   \n",
       "\n",
       "    Electoral_process_and_pluralism Functioning_of_government  \\\n",
       "0                             10.00                      9.64   \n",
       "1                              9.58                      9.29   \n",
       "2                             10.00                      8.93   \n",
       "3                              9.58                      8.93   \n",
       "4                             10.00                      8.93   \n",
       "..                              ...                       ...   \n",
       "151                            0.00                      2.86   \n",
       "152                            0.00                      0.79   \n",
       "153                            0.00                      0.00   \n",
       "154                            1.25                      0.00   \n",
       "155                            0.00                      0.00   \n",
       "\n",
       "    Political_participation Political_culture Civil_liberties  share_of_GDP  \\\n",
       "0                     10.00             10.00            9.41          1.85   \n",
       "1                      8.33             10.00            9.12          1.40   \n",
       "2                      8.89              8.75            9.71          1.50   \n",
       "3                      8.89              9.38            9.41          1.39   \n",
       "4                      8.89              8.75            9.41          2.10   \n",
       "..                      ...               ...             ...           ...   \n",
       "151                    1.67              3.75            0.59          0.20   \n",
       "152                    2.22              5.00            0.59          0.90   \n",
       "153                    1.67              3.75            2.35          2.90   \n",
       "154                    1.11              1.88            2.35          1.80   \n",
       "155                    1.67              3.13            0.88          0.60   \n",
       "\n",
       "    FIPS ISO2 ISO3    HDI  \n",
       "0     NO   NO  NOR  0.957  \n",
       "1     SW   SE  SWE  0.945  \n",
       "2     NZ   NZ  NZL  0.931  \n",
       "3     CA   CA  CAN  0.929  \n",
       "4     FI   FI  FIN  0.938  \n",
       "..   ...  ...  ...    ...  \n",
       "151   LA   LA  LAO  0.613  \n",
       "152   TX   TM  TKM  0.715  \n",
       "153   CD   TD  TCD  0.398  \n",
       "154   CT   CF  CAF  0.397  \n",
       "155   CG   CD  COD  0.480  \n",
       "\n",
       "[156 rows x 13 columns]"
      ]
     },
     "execution_count": 161,
     "metadata": {},
     "output_type": "execute_result"
    }
   ],
   "source": [
    "allmerged.dropna(inplace=True)\n",
    "allmerged.reset_index(drop=True,inplace=True)\n",
    "allmerged"
   ]
  },
  {
   "cell_type": "markdown",
   "id": "precious-astronomy",
   "metadata": {},
   "source": [
    "b. Convert string to numerical"
   ]
  },
  {
   "cell_type": "code",
   "execution_count": 162,
   "id": "russian-pottery",
   "metadata": {},
   "outputs": [],
   "source": [
    "toNumeric=['Overall_score',\n",
    " 'Electoral_process_and_pluralism', \n",
    " 'Functioning_of_government',\n",
    " 'Political_participation', 'Political_culture', 'Civil_liberties']\n",
    "allmerged.loc[:,toNumeric]=allmerged.loc[:,toNumeric].apply(lambda x: pd.to_numeric(x))"
   ]
  },
  {
   "cell_type": "markdown",
   "id": "knowing-tablet",
   "metadata": {},
   "source": [
    "c. Check ordinal variable:"
   ]
  },
  {
   "cell_type": "code",
   "execution_count": 163,
   "id": "alternate-pizza",
   "metadata": {},
   "outputs": [
    {
     "data": {
      "text/plain": [
       "{'Authoritarian', 'Flawed democracy', 'Full democracy', 'Hybrid regime'}"
      ]
     },
     "execution_count": 163,
     "metadata": {},
     "output_type": "execute_result"
    }
   ],
   "source": [
    "#check levels:\n",
    "set(allmerged.Regime_type)"
   ]
  },
  {
   "cell_type": "code",
   "execution_count": 164,
   "id": "swiss-thesis",
   "metadata": {},
   "outputs": [],
   "source": [
    "levels=['Authoritarian', 'Hybrid regime','Flawed democracy', 'Full democracy']\n",
    "allmerged.Regime_type=pd.Categorical(allmerged.Regime_type,\n",
    "                                     categories=levels,\n",
    "                                     ordered=True)"
   ]
  },
  {
   "cell_type": "code",
   "execution_count": 165,
   "id": "scenic-sharp",
   "metadata": {},
   "outputs": [
    {
     "data": {
      "text/plain": [
       "0      Full democracy\n",
       "1      Full democracy\n",
       "2      Full democracy\n",
       "3      Full democracy\n",
       "4      Full democracy\n",
       "            ...      \n",
       "151     Authoritarian\n",
       "152     Authoritarian\n",
       "153     Authoritarian\n",
       "154     Authoritarian\n",
       "155     Authoritarian\n",
       "Name: Regime_type, Length: 156, dtype: category\n",
       "Categories (4, object): ['Authoritarian' < 'Hybrid regime' < 'Flawed democracy' < 'Full democracy']"
      ]
     },
     "execution_count": 165,
     "metadata": {},
     "output_type": "execute_result"
    }
   ],
   "source": [
    "allmerged.Regime_type"
   ]
  },
  {
   "cell_type": "code",
   "execution_count": 166,
   "id": "anticipated-alfred",
   "metadata": {},
   "outputs": [
    {
     "name": "stdout",
     "output_type": "stream",
     "text": [
      "<class 'pandas.core.frame.DataFrame'>\n",
      "RangeIndex: 156 entries, 0 to 155\n",
      "Data columns (total 13 columns):\n",
      " #   Column                           Non-Null Count  Dtype   \n",
      "---  ------                           --------------  -----   \n",
      " 0   Country                          156 non-null    object  \n",
      " 1   Regime_type                      156 non-null    category\n",
      " 2   Overall_score                    156 non-null    float64 \n",
      " 3   Electoral_process_and_pluralism  156 non-null    float64 \n",
      " 4   Functioning_of_government        156 non-null    float64 \n",
      " 5   Political_participation          156 non-null    float64 \n",
      " 6   Political_culture                156 non-null    float64 \n",
      " 7   Civil_liberties                  156 non-null    float64 \n",
      " 8   share_of_GDP                     156 non-null    float64 \n",
      " 9   FIPS                             156 non-null    object  \n",
      " 10  ISO2                             156 non-null    object  \n",
      " 11  ISO3                             156 non-null    object  \n",
      " 12  HDI                              156 non-null    float64 \n",
      "dtypes: category(1), float64(8), object(4)\n",
      "memory usage: 15.1+ KB\n"
     ]
    }
   ],
   "source": [
    "# review:\n",
    "allmerged.info()"
   ]
  },
  {
   "cell_type": "markdown",
   "id": "settled-pottery",
   "metadata": {},
   "source": [
    "Let's give better names to the main indices:"
   ]
  },
  {
   "cell_type": "code",
   "execution_count": 167,
   "id": "cross-niagara",
   "metadata": {},
   "outputs": [],
   "source": [
    "LastNamesChanges={'Overall_score':'DemoIndex','share_of_GDP':'DefenseIndex','HDI':\"HDIndex\"}\n",
    "allmerged.rename(columns=LastNamesChanges,inplace=True)"
   ]
  },
  {
   "cell_type": "code",
   "execution_count": 168,
   "id": "public-audit",
   "metadata": {},
   "outputs": [
    {
     "data": {
      "text/html": [
       "<div>\n",
       "<style scoped>\n",
       "    .dataframe tbody tr th:only-of-type {\n",
       "        vertical-align: middle;\n",
       "    }\n",
       "\n",
       "    .dataframe tbody tr th {\n",
       "        vertical-align: top;\n",
       "    }\n",
       "\n",
       "    .dataframe thead th {\n",
       "        text-align: right;\n",
       "    }\n",
       "</style>\n",
       "<table border=\"1\" class=\"dataframe\">\n",
       "  <thead>\n",
       "    <tr style=\"text-align: right;\">\n",
       "      <th></th>\n",
       "      <th>DemoIndex</th>\n",
       "      <th>DefenseIndex</th>\n",
       "      <th>HDIndex</th>\n",
       "    </tr>\n",
       "  </thead>\n",
       "  <tbody>\n",
       "    <tr>\n",
       "      <th>count</th>\n",
       "      <td>156.000000</td>\n",
       "      <td>156.000000</td>\n",
       "      <td>156.000000</td>\n",
       "    </tr>\n",
       "    <tr>\n",
       "      <th>mean</th>\n",
       "      <td>5.439231</td>\n",
       "      <td>1.973462</td>\n",
       "      <td>0.723115</td>\n",
       "    </tr>\n",
       "    <tr>\n",
       "      <th>std</th>\n",
       "      <td>2.203342</td>\n",
       "      <td>1.533499</td>\n",
       "      <td>0.155041</td>\n",
       "    </tr>\n",
       "    <tr>\n",
       "      <th>min</th>\n",
       "      <td>1.130000</td>\n",
       "      <td>0.200000</td>\n",
       "      <td>0.394000</td>\n",
       "    </tr>\n",
       "    <tr>\n",
       "      <th>25%</th>\n",
       "      <td>3.362500</td>\n",
       "      <td>1.015000</td>\n",
       "      <td>0.593500</td>\n",
       "    </tr>\n",
       "    <tr>\n",
       "      <th>50%</th>\n",
       "      <td>5.775000</td>\n",
       "      <td>1.520000</td>\n",
       "      <td>0.746000</td>\n",
       "    </tr>\n",
       "    <tr>\n",
       "      <th>75%</th>\n",
       "      <td>7.137500</td>\n",
       "      <td>2.325000</td>\n",
       "      <td>0.851000</td>\n",
       "    </tr>\n",
       "    <tr>\n",
       "      <th>max</th>\n",
       "      <td>9.810000</td>\n",
       "      <td>11.000000</td>\n",
       "      <td>0.957000</td>\n",
       "    </tr>\n",
       "  </tbody>\n",
       "</table>\n",
       "</div>"
      ],
      "text/plain": [
       "        DemoIndex  DefenseIndex     HDIndex\n",
       "count  156.000000    156.000000  156.000000\n",
       "mean     5.439231      1.973462    0.723115\n",
       "std      2.203342      1.533499    0.155041\n",
       "min      1.130000      0.200000    0.394000\n",
       "25%      3.362500      1.015000    0.593500\n",
       "50%      5.775000      1.520000    0.746000\n",
       "75%      7.137500      2.325000    0.851000\n",
       "max      9.810000     11.000000    0.957000"
      ]
     },
     "execution_count": 168,
     "metadata": {},
     "output_type": "execute_result"
    }
   ],
   "source": [
    "allmerged.loc[:,['DemoIndex','DefenseIndex',\"HDIndex\"]].describe()"
   ]
  },
  {
   "cell_type": "code",
   "execution_count": 169,
   "id": "cleared-trade",
   "metadata": {},
   "outputs": [],
   "source": [
    "#!pip install seaborn"
   ]
  },
  {
   "cell_type": "code",
   "execution_count": 170,
   "id": "cutting-lincoln",
   "metadata": {},
   "outputs": [
    {
     "data": {
      "text/plain": [
       "<AxesSubplot:>"
      ]
     },
     "execution_count": 170,
     "metadata": {},
     "output_type": "execute_result"
    },
    {
     "data": {
      "image/png": "[encoded data removed]",
      "text/plain": [
       "<Figure size 432x288 with 1 Axes>"
      ]
     },
     "metadata": {
      "needs_background": "light"
     },
     "output_type": "display_data"
    }
   ],
   "source": [
    "import seaborn as sbn\n",
    "\n",
    "sbn.boxplot(data=allmerged.loc[:,['DemoIndex','DefenseIndex',\"HDIndex\"]], orient=\"h\", palette=\"Set2\")"
   ]
  },
  {
   "cell_type": "code",
   "execution_count": 171,
   "id": "outer-revision",
   "metadata": {},
   "outputs": [
    {
     "data": {
      "text/plain": [
       "<AxesSubplot:>"
      ]
     },
     "execution_count": 171,
     "metadata": {},
     "output_type": "execute_result"
    },
    {
     "data": {
      "image/png": "[encoded data removed]",
      "text/plain": [
       "<Figure size 432x288 with 1 Axes>"
      ]
     },
     "metadata": {
      "needs_background": "light"
     },
     "output_type": "display_data"
    }
   ],
   "source": [
    "allmerged.HDIndex=10*allmerged.HDIndex\n",
    "sbn.boxplot(data=allmerged.loc[:,['DemoIndex','DefenseIndex',\"HDIndex\"]], orient=\"h\", palette=\"Set2\")"
   ]
  },
  {
   "cell_type": "code",
   "execution_count": 176,
   "id": "premium-rogers",
   "metadata": {},
   "outputs": [
    {
     "data": {
      "text/plain": [
       "<seaborn.axisgrid.PairGrid at 0x7ffcf6417a60>"
      ]
     },
     "execution_count": 176,
     "metadata": {},
     "output_type": "execute_result"
    },
    {
     "data": {
      "image/png": "[encoded data removed]",
      "text/plain": [
       "<Figure size 540x540 with 9 Axes>"
      ]
     },
     "metadata": {
      "needs_background": "light"
     },
     "output_type": "display_data"
    }
   ],
   "source": [
    "sbn.pairplot(allmerged.loc[:,['DemoIndex','DefenseIndex',\"HDIndex\"]], corner=True)"
   ]
  },
  {
   "cell_type": "code",
   "execution_count": 173,
   "id": "central-journal",
   "metadata": {},
   "outputs": [
    {
     "data": {
      "text/html": [
       "<div>\n",
       "<style scoped>\n",
       "    .dataframe tbody tr th:only-of-type {\n",
       "        vertical-align: middle;\n",
       "    }\n",
       "\n",
       "    .dataframe tbody tr th {\n",
       "        vertical-align: top;\n",
       "    }\n",
       "\n",
       "    .dataframe thead th {\n",
       "        text-align: right;\n",
       "    }\n",
       "</style>\n",
       "<table border=\"1\" class=\"dataframe\">\n",
       "  <thead>\n",
       "    <tr style=\"text-align: right;\">\n",
       "      <th></th>\n",
       "      <th>DemoIndex</th>\n",
       "      <th>DefenseIndex</th>\n",
       "      <th>HDIndex</th>\n",
       "    </tr>\n",
       "  </thead>\n",
       "  <tbody>\n",
       "    <tr>\n",
       "      <th>DemoIndex</th>\n",
       "      <td>1.000000</td>\n",
       "      <td>-0.249164</td>\n",
       "      <td>0.655845</td>\n",
       "    </tr>\n",
       "    <tr>\n",
       "      <th>DefenseIndex</th>\n",
       "      <td>-0.249164</td>\n",
       "      <td>1.000000</td>\n",
       "      <td>0.095492</td>\n",
       "    </tr>\n",
       "    <tr>\n",
       "      <th>HDIndex</th>\n",
       "      <td>0.655845</td>\n",
       "      <td>0.095492</td>\n",
       "      <td>1.000000</td>\n",
       "    </tr>\n",
       "  </tbody>\n",
       "</table>\n",
       "</div>"
      ],
      "text/plain": [
       "              DemoIndex  DefenseIndex   HDIndex\n",
       "DemoIndex      1.000000     -0.249164  0.655845\n",
       "DefenseIndex  -0.249164      1.000000  0.095492\n",
       "HDIndex        0.655845      0.095492  1.000000"
      ]
     },
     "execution_count": 173,
     "metadata": {},
     "output_type": "execute_result"
    }
   ],
   "source": [
    "allmerged.loc[:,['DemoIndex','DefenseIndex',\"HDIndex\"]].corr()"
   ]
  },
  {
   "cell_type": "code",
   "execution_count": 174,
   "id": "south-footwear",
   "metadata": {},
   "outputs": [
    {
     "data": {
      "text/plain": [
       "count    156.000000\n",
       "mean       9.226538\n",
       "std        1.533499\n",
       "min        0.200000\n",
       "25%        8.875000\n",
       "50%        9.680000\n",
       "75%       10.185000\n",
       "max       11.000000\n",
       "Name: DefenseIndex, dtype: float64"
      ]
     },
     "execution_count": 174,
     "metadata": {},
     "output_type": "execute_result"
    }
   ],
   "source": [
    "allmerged.DefenseIndex=-1*((allmerged.DefenseIndex-allmerged.DefenseIndex.max()))+allmerged.DefenseIndex.min()\n",
    "allmerged.DefenseIndex.describe()"
   ]
  },
  {
   "cell_type": "code",
   "execution_count": 175,
   "id": "emerging-ensemble",
   "metadata": {},
   "outputs": [
    {
     "data": {
      "text/html": [
       "<div>\n",
       "<style scoped>\n",
       "    .dataframe tbody tr th:only-of-type {\n",
       "        vertical-align: middle;\n",
       "    }\n",
       "\n",
       "    .dataframe tbody tr th {\n",
       "        vertical-align: top;\n",
       "    }\n",
       "\n",
       "    .dataframe thead th {\n",
       "        text-align: right;\n",
       "    }\n",
       "</style>\n",
       "<table border=\"1\" class=\"dataframe\">\n",
       "  <thead>\n",
       "    <tr style=\"text-align: right;\">\n",
       "      <th></th>\n",
       "      <th>DemoIndex</th>\n",
       "      <th>DefenseIndex</th>\n",
       "      <th>HDIndex</th>\n",
       "    </tr>\n",
       "  </thead>\n",
       "  <tbody>\n",
       "    <tr>\n",
       "      <th>DemoIndex</th>\n",
       "      <td>1.000000</td>\n",
       "      <td>0.249164</td>\n",
       "      <td>0.655845</td>\n",
       "    </tr>\n",
       "    <tr>\n",
       "      <th>DefenseIndex</th>\n",
       "      <td>0.249164</td>\n",
       "      <td>1.000000</td>\n",
       "      <td>-0.095492</td>\n",
       "    </tr>\n",
       "    <tr>\n",
       "      <th>HDIndex</th>\n",
       "      <td>0.655845</td>\n",
       "      <td>-0.095492</td>\n",
       "      <td>1.000000</td>\n",
       "    </tr>\n",
       "  </tbody>\n",
       "</table>\n",
       "</div>"
      ],
      "text/plain": [
       "              DemoIndex  DefenseIndex   HDIndex\n",
       "DemoIndex      1.000000      0.249164  0.655845\n",
       "DefenseIndex   0.249164      1.000000 -0.095492\n",
       "HDIndex        0.655845     -0.095492  1.000000"
      ]
     },
     "execution_count": 175,
     "metadata": {},
     "output_type": "execute_result"
    }
   ],
   "source": [
    "allmerged.loc[:,['DemoIndex','DefenseIndex',\"HDIndex\"]].corr()"
   ]
  },
  {
   "cell_type": "markdown",
   "id": "english-environment",
   "metadata": {},
   "source": [
    "Also, pay attention to distribution:"
   ]
  },
  {
   "cell_type": "markdown",
   "id": "worse-friend",
   "metadata": {},
   "source": [
    "### 4. Save your work"
   ]
  },
  {
   "cell_type": "markdown",
   "id": "false-aggregate",
   "metadata": {},
   "source": [
    "* _Save data for R_:"
   ]
  },
  {
   "cell_type": "code",
   "execution_count": 177,
   "id": "outside-gnome",
   "metadata": {},
   "outputs": [
    {
     "name": "stderr",
     "output_type": "stream",
     "text": [
      "/Users/JoseManuel/anaconda3/envs/WinterSchool/lib/python3.8/site-packages/rpy2/robjects/vectors.py:980: UserWarning: R object inheriting from \"POSIXct\" but without attribute \"tzone\".\n",
      "  warnings.warn('R object inheriting from \"POSIXct\" but without '\n"
     ]
    },
    {
     "data": {
      "text/plain": [
       "<rpy2.rinterface_lib.sexp.NULLType object at 0x7ffcf8b74e40> [RTYPES.NILSXP]"
      ]
     },
     "execution_count": 177,
     "metadata": {},
     "output_type": "execute_result"
    }
   ],
   "source": [
    "from rpy2.robjects import pandas2ri\n",
    "pandas2ri.activate()\n",
    "\n",
    "from rpy2.robjects.packages import importr\n",
    "\n",
    "base = importr('base')\n",
    "base.saveRDS(allmerged,file=\"allmerged_new.rds\")"
   ]
  },
  {
   "cell_type": "code",
   "execution_count": null,
   "id": "wired-basic",
   "metadata": {},
   "outputs": [],
   "source": []
  }
 ],
 "metadata": {
  "hide_input": false,
  "kernelspec": {
   "display_name": "Python 3",
   "language": "python",
   "name": "python3"
  },
  "language_info": {
   "codemirror_mode": {
    "name": "ipython",
    "version": 3
   },
   "file_extension": ".py",
   "mimetype": "text/x-python",
   "name": "python",
   "nbconvert_exporter": "python",
   "pygments_lexer": "ipython3",
   "version": "3.8.6"
  }
 },
 "nbformat": 4,
 "nbformat_minor": 5
}
